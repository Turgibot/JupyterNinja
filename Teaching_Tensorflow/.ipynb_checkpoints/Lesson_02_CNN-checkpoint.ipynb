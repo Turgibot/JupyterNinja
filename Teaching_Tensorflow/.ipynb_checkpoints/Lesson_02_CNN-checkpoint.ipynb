{
 "cells": [
  {
   "cell_type": "markdown",
   "metadata": {},
   "source": [
    "# Lesson 2 - Convolutional Neural Networks with Tensorflow"
   ]
  },
  {
   "cell_type": "markdown",
   "metadata": {},
   "source": [
    "Created by [Guy Tordjman](https://github.com/Turgibot). Based on the [Tensorflow official tutorials](https://www.tensorflow.org/tutorials/) and [Hvass Laboratories](http://www.hvass-labs.org/)."
   ]
  },
  {
   "cell_type": "markdown",
   "metadata": {},
   "source": [
    "## This Lesson is about better results:\n",
    "<p style=\"font-size:16px;\">\n",
    "    In the previous lesson we demonstrated that with a linear model, we are able to classify an image of a digit with an average accuracy of 90%. In the real world classifying applications require a state of the art accuracy. For example, imagine that you had to use the linear model from lesson 1 in an autonomous vehicle and had to decide if the image you process is of a pedestrian or not and act accordingly. The 10% chance that the image was classfied wrong - can cost a very high price and not to mention hurt someone. Stop for a moment and think about it... <br> With power comes responsibility.<br><br>\n",
    "    In this lesson we will implement a CNN(Convolutional Neural Network) and get an accuracy of 99% and higher.\n",
    "\n",
    "### A model is built of layers \n",
    "<p style=\"font-size:16px;\">\n",
    "In Lesson one we passed the input tensor with images to the output tensor and in the process we run calculation of the weights and biases. From now on we will call each phase before and after the calculation part a \"layer\".\n"
   ]
  },
  {
   "cell_type": "markdown",
   "metadata": {},
   "source": [
    "## Fully-connected layer , Convolutional layer, Pooling ... Ha?...\n",
    "<p style=\"font-size:16px;\">\n",
    "There are many in-depth articles available on line about the different layers I always encourage learning more. That said, I will concentrate on the characteristics of the relevant layers mentioned in this lesson."
   ]
  },
  {
   "cell_type": "markdown",
   "metadata": {},
   "source": [
    "### FC - The Fully Connected layer\n",
    "![fc](images/fc.png)"
   ]
  },
  {
   "cell_type": "markdown",
   "metadata": {},
   "source": [
    "<p style=\"font-size:16px;\">\n",
    "This layer is a FC graph where each node/neuron in the left layer is linked to a node/neuron in the other layer. The edges are the links and each edge has a weight \"w\". <br>\n",
    "The first layer in a model is called the \"input layer\" and th einner layer are called \"hidden layers\". "
   ]
  },
  {
   "cell_type": "markdown",
   "metadata": {},
   "source": [
    "### FC - The Convolutional layer\n",
    "![fc](images/conv.gif)"
   ]
  },
  {
   "cell_type": "markdown",
   "metadata": {},
   "source": [
    "<p style=\"font-size:16px;\">\n",
    "Convolutional Networks work by moving small filters across the input image making calulation using weights and biases. These filters (also called kernels) are re-used for recognizing patterns throughout the entire input image which makes the Convolutional Networks copared to a FC network with the same number of variables -  more powerful and faster to train.<br>\n",
    "    \n",
    "[This link by brohrer](https://brohrer.github.io/how_convolutional_neural_networks_work.html)\n",
    "<p style=\"font-size:16px;\"> Is a must in order To fully understand the rest of this lesson. It has a very nice approach to explaining the math behind convolution layers.  \n",
    "\n",
    "\n"
   ]
  },
  {
   "cell_type": "markdown",
   "metadata": {},
   "source": [
    "# Coding Time - CNN (ConvNets) Implementation\n",
    "<p style=\"font-size:16px;\">\n",
    "ConvNet architectures make the explicit assumption that the inputs are images, which allows us to encode certain properties into the architecture. These then make the forward function more efficient to implement and vastly reduce the amount of parameters in the network. A simple ConvNet is a sequence of layers, and every layer of a ConvNet transforms one volume of activations to another through a differentiable function. We use three main types of layers to build ConvNet architectures: Convolutional Layer, Pooling Layer, and Fully-Connected Layer. We will stack these layers to form a full ConvNet architecture that looks like this:\n",
    "    <ol>\n",
    "        <li>Input layer</li>\n",
    "        <li>Conv1 layer (pooling and activation optional)</li>\n",
    "        <li>Conv2 layer (pooling and activation optional)</li>\n",
    "        <li>FC layer</li>\n",
    "        <li>Output layer</li>\n",
    "    </ol>\n",
    "<p style=\"font-size:16px;\">\n",
    "Note - I included a python \"utils.py\" file that contains helper functions for plotting images and for downloading and parsing the mnist dataset <br>\n",
    "    \n",
    "### The imports:"
   ]
  },
  {
   "cell_type": "code",
   "execution_count": 39,
   "metadata": {},
   "outputs": [
    {
     "data": {
      "text/plain": [
       "'1.7.0'"
      ]
     },
     "execution_count": 39,
     "metadata": {},
     "output_type": "execute_result"
    }
   ],
   "source": [
    "%matplotlib inline\n",
    "import matplotlib.pyplot as plt\n",
    "import tensorflow as tf\n",
    "import numpy as np\n",
    "from utils import plot_images_grid as plot, plot_example_errors as plot_errors, plot_confusion_matrix\n",
    "from tensorflow.examples.tutorials.mnist import input_data\n",
    "from sklearn.metrics import confusion_matrix\n",
    "import time\n",
    "from datetime import timedelta\n",
    "import math\n",
    "import os\n",
    "tf.__version__"
   ]
  },
  {
   "cell_type": "markdown",
   "metadata": {},
   "source": [
    "## Importing dataset Update:\n",
    "\n",
    "<p style=\"font-size:16px;\">\n",
    "The methods we use to download the dataset are deprecated and will be removed in a future tf version. It recommended to use the dataset api and tfrecords instead. no worries they will be covered in the next lessons."
   ]
  },
  {
   "cell_type": "code",
   "execution_count": 2,
   "metadata": {},
   "outputs": [
    {
     "name": "stdout",
     "output_type": "stream",
     "text": [
      "WARNING:tensorflow:From <ipython-input-2-1d747117251f>:4: read_data_sets (from tensorflow.contrib.learn.python.learn.datasets.mnist) is deprecated and will be removed in a future version.\n",
      "Instructions for updating:\n",
      "Please use alternatives such as official/mnist/dataset.py from tensorflow/models.\n",
      "WARNING:tensorflow:From /usr/local/lib/python3.5/dist-packages/tensorflow/contrib/learn/python/learn/datasets/mnist.py:260: maybe_download (from tensorflow.contrib.learn.python.learn.datasets.base) is deprecated and will be removed in a future version.\n",
      "Instructions for updating:\n",
      "Please write your own downloading logic.\n",
      "WARNING:tensorflow:From /usr/local/lib/python3.5/dist-packages/tensorflow/contrib/learn/python/learn/datasets/mnist.py:262: extract_images (from tensorflow.contrib.learn.python.learn.datasets.mnist) is deprecated and will be removed in a future version.\n",
      "Instructions for updating:\n",
      "Please use tf.data to implement this functionality.\n",
      "Extracting data/mnist/train-images-idx3-ubyte.gz\n",
      "WARNING:tensorflow:From /usr/local/lib/python3.5/dist-packages/tensorflow/contrib/learn/python/learn/datasets/mnist.py:267: extract_labels (from tensorflow.contrib.learn.python.learn.datasets.mnist) is deprecated and will be removed in a future version.\n",
      "Instructions for updating:\n",
      "Please use tf.data to implement this functionality.\n",
      "Extracting data/mnist/train-labels-idx1-ubyte.gz\n",
      "WARNING:tensorflow:From /usr/local/lib/python3.5/dist-packages/tensorflow/contrib/learn/python/learn/datasets/mnist.py:110: dense_to_one_hot (from tensorflow.contrib.learn.python.learn.datasets.mnist) is deprecated and will be removed in a future version.\n",
      "Instructions for updating:\n",
      "Please use tf.one_hot on tensors.\n",
      "Extracting data/mnist/t10k-images-idx3-ubyte.gz\n",
      "Extracting data/mnist/t10k-labels-idx1-ubyte.gz\n",
      "WARNING:tensorflow:From /usr/local/lib/python3.5/dist-packages/tensorflow/contrib/learn/python/learn/datasets/mnist.py:290: DataSet.__init__ (from tensorflow.contrib.learn.python.learn.datasets.mnist) is deprecated and will be removed in a future version.\n",
      "Instructions for updating:\n",
      "Please use alternatives such as official/mnist/dataset.py from tensorflow/models.\n"
     ]
    }
   ],
   "source": [
    "os.environ['TF_CPP_MIN_LOG_LEVEL']='2' #to deprecate tf warnings\n",
    "\n",
    "# getting the data. NOTE- The Labels already in one hot encoding and Images are flattened:\n",
    "data = input_data.read_data_sets('data/mnist/', one_hot=True)"
   ]
  },
  {
   "cell_type": "markdown",
   "metadata": {},
   "source": [
    "### Data set size:"
   ]
  },
  {
   "cell_type": "code",
   "execution_count": 3,
   "metadata": {},
   "outputs": [
    {
     "name": "stdout",
     "output_type": "stream",
     "text": [
      "Size of:\n",
      "Training-set:\t\t55000\n",
      "Test-set:\t\t10000\n",
      "Validation-set:\t\t5000\n"
     ]
    }
   ],
   "source": [
    "train_size = len(data.train.labels)\n",
    "test_size = len(data.test.labels)\n",
    "valid_size = len(data.validation.labels)\n",
    "print(\"Size of:\")\n",
    "print(\"Training-set:\\t\\t{}\".format(train_size))\n",
    "print(\"Test-set:\\t\\t{}\".format(test_size))\n",
    "print(\"Validation-set:\\t\\t{}\".format(valid_size))"
   ]
  },
  {
   "cell_type": "markdown",
   "metadata": {},
   "source": [
    "<p style=\"font-size:16px;\">\n",
    "To get the classes vector of the test data set we can simply run:"
   ]
  },
  {
   "cell_type": "code",
   "execution_count": 4,
   "metadata": {},
   "outputs": [],
   "source": [
    "data.test.classes = np.argmax(data.test.labels, axis=1)"
   ]
  },
  {
   "cell_type": "markdown",
   "metadata": {},
   "source": [
    "### Getting the data's characteristics:\n",
    "<p style=\"font-size:16px;\">\n",
    "These are variables that we will need in future calculations\n"
   ]
  },
  {
   "cell_type": "code",
   "execution_count": 5,
   "metadata": {},
   "outputs": [],
   "source": [
    "image_size = image_height = image_width = 28\n",
    "image_flat_size = image_size ** 2\n",
    "image_shape = (image_height, image_width)\n",
    "num_channels =1\n",
    "num_classes =10"
   ]
  },
  {
   "cell_type": "markdown",
   "metadata": {},
   "source": [
    "<p style=\"font-size:16px;\">\n",
    "Lets take alook at our dataset and make sure it looks ok."
   ]
  },
  {
   "cell_type": "code",
   "execution_count": 6,
   "metadata": {},
   "outputs": [
    {
     "data": {
      "image/png": "[encoded data removed]",
      "text/plain": [
       "<Figure size 432x288 with 32 Axes>"
      ]
     },
     "metadata": {},
     "output_type": "display_data"
    }
   ],
   "source": [
    "plot(data.test.images[0:32], image_shape[0:32], data.test.classes[0:32])"
   ]
  },
  {
   "cell_type": "markdown",
   "metadata": {},
   "source": [
    "# Preparing the building blocks:\n",
    "<p style=\"font-size:16px;\">\n",
    "So before we start building our conputational graph lets make sure we have our placeholders, variables and layers ready. If this is mandrin for you take another look at lesson one and come right back.\n",
    "    \n",
    "    \n",
    "## PlaceHolders\n",
    "<p style=\"font-size:16px;\">\n",
    "As you recall. Placeholders serve as the graph extremities- input imaged and the corelated classes.<br>\n",
    "    Starting with the input x (Remeber our images are sent flatened as input  and each image has a shape: (784,) ), and then, the input actual classes - y.<br><br>\n",
    "    It's recommended to take a moment to think about the shape and dtype of these tensors before continue reading...\n"
   ]
  },
  {
   "cell_type": "code",
   "execution_count": 7,
   "metadata": {},
   "outputs": [],
   "source": [
    "x = tf.placeholder(tf.float32, shape=(None, image_flat_size), name='x')\n",
    "y = tf.placeholder(tf.float32, shape=(None, num_classes), name='y')"
   ]
  },
  {
   "cell_type": "markdown",
   "metadata": {},
   "source": [
    "<p style=\"font-size:16px;\">\n",
    "For the pupose of plotting our images and the computetional results, lets reshape the images and get the max value of each one hot vector:"
   ]
  },
  {
   "cell_type": "code",
   "execution_count": 8,
   "metadata": {},
   "outputs": [],
   "source": [
    "x_images = tf.reshape(x, shape=(-1, image_height, image_width, num_channels))\n",
    "y_classes = tf.argmax(y, axis=1)"
   ]
  },
  {
   "cell_type": "code",
   "execution_count": 9,
   "metadata": {},
   "outputs": [],
   "source": [
    "def get_weights(shape):\n",
    "    return tf.Variable(tf.truncated_normal(shape, stddev=0.05))\n",
    "\n",
    "def get_biases(length):\n",
    "    return tf.Variable(tf.constant(0.05, shape=[length]))"
   ]
  },
  {
   "cell_type": "markdown",
   "metadata": {},
   "source": [
    "## Convolution layers\n",
    "<p style=\"font-size:16px;\">\n",
    "There are many sources to learn more about the different conv layers. I tryed to capture the essence of each of the layers we use on out convnet:\n",
    "    <ul style=\"font-size:16px;\">\n",
    "        <li>CONV layer will compute the output of neurons that are connected to local regions in the input, each computing a dot product between their weights and a small region they are connected to in the input volume. This may result in volume such as [28x28x12] if we decided to use 12 filters.</li>\n",
    "        <li>RELU layer will apply an elementwise activation function, such as the max(0,x) thresholding at zero. This leaves the size of the volume unchanged ([28x28x12]).</li>\n",
    "        <li>POOL layer will perform a downsampling operation along the spatial dimensions (width, height), resulting in volume such as [14x14x12].</li>\n",
    "    </ul>\n",
    "\n",
    "<p style=\"font-size:16px;\">\n",
    "A very common sequence of layers are conv -> relu -> pool. It makes sense to create a function that does it all for us. Also, for ploting purposes this function will not only return the resulted layer of these layers operation, but also the weights (Normaly this is not needed).\n",
    "\n"
   ]
  },
  {
   "cell_type": "code",
   "execution_count": 10,
   "metadata": {},
   "outputs": [],
   "source": [
    "def conv_layer(input_layer,        \n",
    "                   num_input_channels, \n",
    "                   filter_size,        \n",
    "                   num_filters,\n",
    "                   activation='RELU',  # Use Relu activation function as default \n",
    "                   pooling=True):  # Use 2x2 max-pooling window with 2x2 stride.\n",
    "\n",
    "    \n",
    "    # This format is determined by the TensorFlow API.\n",
    "    filter_shape = (filter_size, filter_size, num_input_channels, num_filters)\n",
    "\n",
    "    # Create new weights aka. filters with the given shape.\n",
    "    weights = get_weights(filter_shape)\n",
    "    # Create new biases, one for each filter.\n",
    "    biases = get_biases(num_filters)\n",
    "\n",
    "    # The filter is strided according to the strides argument. \n",
    "    # strides = [1, 1, 1, 1] applies the filter to a patch at every offset\n",
    "    # The padding is set to 'SAME' which means the input image\n",
    "    # is padded with zeroes so the size of the output is the same.\n",
    "    layer = tf.nn.conv2d(input=input_layer,\n",
    "                         filter=weights,\n",
    "                         strides=[1, 1, 1, 1],\n",
    "                         padding='SAME')\n",
    "\n",
    "    # Add the biases to the results of the convolution with the filters weights.\n",
    "    layer += biases\n",
    "\n",
    "    # Use pooling to down-sample the image resolution?\n",
    "    if pooling:\n",
    "        #Define a window and the way it strides and take the maxvalue of each window.\n",
    "        #ksize: The size of the window for each dimension of the input tensor.\n",
    "        #strides: The stride of the sliding window for each dimension of the input tensor.\n",
    "        #padding: A string, either 'VALID' or 'SAME'\n",
    "        layer = tf.nn.max_pool(value=layer,\n",
    "                               ksize=[1, 2, 2, 1],\n",
    "                               strides=[1, 2, 2, 1],\n",
    "                               padding='SAME')\n",
    "    if activation is 'RELU':\n",
    "        layer = tf.nn.relu(layer)\n",
    "                             \n",
    "    return layer, weights"
   ]
  },
  {
   "cell_type": "markdown",
   "metadata": {},
   "source": [
    "### Didn't we say max-pooling after RELU and not before???\n",
    "<p style=\"font-size:16px;\">\n",
    "Understanding what each layer does and why is key to save in processing time and increase productivity. <br>And because relu(max_pool(x)) == max_pool(relu(x)) - It is possible to save 75% (3 out of 4 neurons are not transfered to the next layer) of the relu-operations by max-pooling first.\n"
   ]
  },
  {
   "cell_type": "markdown",
   "metadata": {},
   "source": [
    "## Flattening Function:\n",
    "<p style=\"font-size:16px;\">\n",
    "A TF.Tensor has a function that returns it's shape. After Conv layer a shape looks like: shape = (num_images_in_batch, img_height, img_width, num_channels). When the following layer is a FC layer it is nacessary to bring the shape to a flattened form: <br>shape = (num_images_in_batch, img_height x img_width x num_channels). <br>\n",
    "    This action doesnt chage the total size of the tensor. Lets write a function that flattenes a tensor and return the flattened one:\n"
   ]
  },
  {
   "cell_type": "code",
   "execution_count": 11,
   "metadata": {},
   "outputs": [],
   "source": [
    "def flattened_layer(layer):\n",
    "    layer_shape = layer.get_shape()\n",
    "    num_elements = layer_shape[1:4].num_elements()\n",
    "    layer_flat = tf.reshape(layer, [-1, num_elements])\n",
    "    return layer_flat, num_elements"
   ]
  },
  {
   "cell_type": "markdown",
   "metadata": {},
   "source": [
    "## Fully Connected layer\n",
    "<p style=\"font-size:16px;\">\n",
    "We are already familiar with the properties of a FC layer. In another function Lets pass it's product to a relu layer . "
   ]
  },
  {
   "cell_type": "code",
   "execution_count": 12,
   "metadata": {},
   "outputs": [],
   "source": [
    "def fc_layer(input_layer,          # The previous layer.\n",
    "                 num_inputs,     # Num. inputs from prev. layer.\n",
    "                 num_outputs,    # Num. outputs.\n",
    "                 activation='RELU'): # Use Rectified Linear Unit (ReLU)?\n",
    "\n",
    "    # Create new weights aka. filters with the given shape.\n",
    "    weights = get_weights(shape=(num_inputs ,num_outputs))\n",
    "    # Create new biases, one for each filter.\n",
    "    biases = get_biases(num_outputs)\n",
    "\n",
    "    layer = tf.matmul(input_layer, weights) + biases\n",
    "\n",
    "    if activation is'RELU':\n",
    "        layer = tf.nn.relu(layer)\n",
    "\n",
    "    return layer"
   ]
  },
  {
   "cell_type": "markdown",
   "metadata": {},
   "source": [
    "# Conv Net Model\n",
    "<p style=\"font-size:16px;\">\n",
    "It's time to put it all together, add a cost function, prediction, accuracy and optimizer for training.\n",
    "    Note- It makes more sense that this all will be implemented under a single class. After this lesson, we will be able to do so. <br><br>\n",
    "    \n",
    "## Input:\n",
    "<p style=\"font-size:16px;\">\n",
    "We will need to create a feed dictionary everytime we want to process the dataset. for example before training and testing...\n",
    "\n",
    "## Conv1:\n",
    "<p style=\"font-size:16px;\">\n",
    "Taking the input images and run them through 18 5x5 filters:\n",
    "    \n",
    "    \n",
    "#Convolutional Layer 2.\n",
    "filter_size2 = 5          # Convolution filters are 5 x 5 pixels.\n",
    "num_filters2 = 36         # There are 36 of these filters.\n",
    "\n",
    "#Fully-connected layer.\n",
    "fc_size = 128             # Number of neurons in fully-connected layer."
   ]
  },
  {
   "cell_type": "code",
   "execution_count": 13,
   "metadata": {},
   "outputs": [],
   "source": [
    "conv1_filter_size = 5\n",
    "conv1_filters_num = 18\n",
    "conv1, weights_conv1 = conv_layer( input_layer=x_images,\n",
    "                                   num_input_channels=num_channels,\n",
    "                                   filter_size=conv1_filter_size,\n",
    "                                   num_filters=conv1_filters_num,\n",
    "                                   pooling=True )"
   ]
  },
  {
   "cell_type": "markdown",
   "metadata": {},
   "source": [
    "## Conv2:\n",
    "<p style=\"font-size:16px;\">\n",
    "Taking conv1 layer neurons and run them through 36 5x5 filters:\n",
    "    "
   ]
  },
  {
   "cell_type": "code",
   "execution_count": 14,
   "metadata": {},
   "outputs": [],
   "source": [
    "conv2_filter_size = 5\n",
    "conv2_filters_num = 36\n",
    "conv2, weights_conv2 = conv_layer( input_layer=conv1,\n",
    "                                   num_input_channels=conv1_filters_num,\n",
    "                                   filter_size=conv2_filter_size,\n",
    "                                   num_filters=conv2_filters_num,\n",
    "                                   pooling=True )"
   ]
  },
  {
   "cell_type": "markdown",
   "metadata": {},
   "source": [
    "## Conv2-Flattened:\n",
    "<p style=\"font-size:16px;\">\n",
    "After conv2 layer there's a FC layer so lets flatten Conv2.\n",
    "    "
   ]
  },
  {
   "cell_type": "code",
   "execution_count": 15,
   "metadata": {},
   "outputs": [],
   "source": [
    "conv2_flat, num_elements = flattened_layer(conv2)\n"
   ]
  },
  {
   "cell_type": "markdown",
   "metadata": {},
   "source": [
    "## FC1:\n",
    "<p style=\"font-size:16px;\">\n",
    "The input is the flattened layer from the previous convolution. The number of neurons or nodes in the fully-connected layer is `fc1_size`.    \n"
   ]
  },
  {
   "cell_type": "code",
   "execution_count": 16,
   "metadata": {},
   "outputs": [],
   "source": [
    "fc1_size = 128\n",
    "fc1 = fc_layer(input_layer=conv2_flat,\n",
    "               num_inputs=num_elements,\n",
    "               num_outputs=fc1_size,\n",
    "               activation='RELU')"
   ]
  },
  {
   "cell_type": "markdown",
   "metadata": {},
   "source": [
    "## FC2\n",
    "<p style=\"font-size:16px;\">\n",
    "This is another fully-connected layer that outputs vectors of length 10 for determining which of the 10 classes the input image belongs to. Note that ReLU is not used in this layer."
   ]
  },
  {
   "cell_type": "code",
   "execution_count": 17,
   "metadata": {},
   "outputs": [],
   "source": [
    "fc2 = fc_layer(input_layer=fc1,\n",
    "               num_inputs=fc1_size,\n",
    "               num_outputs=num_classes,\n",
    "               activation=None)"
   ]
  },
  {
   "cell_type": "markdown",
   "metadata": {},
   "source": [
    "## Prediction\n",
    "<p style=\"font-size:16px;\">\n",
    "The last layer has holds the prediction of our input images. But the values in each neuron are a bit rough and difficult to interpret because the numbers may be very small or large. We know what to do. Let's normalize them using the softmax function: <br>\n",
    "    \n",
    "    softmax = exp(logits) / reduce_sum(exp(logits), dim)\n"
   ]
  },
  {
   "cell_type": "code",
   "execution_count": 18,
   "metadata": {},
   "outputs": [],
   "source": [
    "y_predicted = tf.nn.softmax(fc2)\n",
    "\n",
    "# The class is the index of the largest element.\n",
    "y_predicted_cls = tf.argmax(y_predicted, axis=1)"
   ]
  },
  {
   "cell_type": "markdown",
   "metadata": {},
   "source": [
    "## Cost\n",
    "<p style=\"font-size:16px;\">\n",
    "In this model we will use the same cost function from lesson 1. After all we are working on the same dataset and trying to do the same thing...<br>\n",
    "    If you feel uncertain about the next few lines of code - please go back to lesson one and take another look at the cost function in the linear model.\n",
    "    "
   ]
  },
  {
   "cell_type": "code",
   "execution_count": 19,
   "metadata": {},
   "outputs": [],
   "source": [
    "cross_entropy = tf.nn.softmax_cross_entropy_with_logits_v2(logits=fc2, labels=y)"
   ]
  },
  {
   "cell_type": "code",
   "execution_count": 20,
   "metadata": {},
   "outputs": [],
   "source": [
    "cost = tf.reduce_mean(cross_entropy)"
   ]
  },
  {
   "cell_type": "markdown",
   "metadata": {},
   "source": [
    "## Training and Optimization\n",
    "<p style=\"font-size:16px;\">\n",
    "Remember that the lower the cost the more accurate our model is . The purpose of an optimiser is to minimize the cost value. In this case it is the AdamOptimizer which is an advanced form of Gradient Descent."
   ]
  },
  {
   "cell_type": "code",
   "execution_count": 21,
   "metadata": {},
   "outputs": [],
   "source": [
    "optimizer = tf.train.AdamOptimizer(learning_rate=1e-4).minimize(cost)"
   ]
  },
  {
   "cell_type": "markdown",
   "metadata": {},
   "source": [
    "## Measuring Accuracy\n",
    "<p style=\"font-size:16px;\">\n",
    "Same as in lesson 1. What is the percentage of correct predictions?"
   ]
  },
  {
   "cell_type": "code",
   "execution_count": 22,
   "metadata": {},
   "outputs": [],
   "source": [
    "correct_prediction = tf.equal(y_predicted_cls, y_classes)\n",
    "correct_prediction = tf.cast(correct_prediction, tf.float32)\n",
    "\n",
    "accuracy = tf.reduce_mean(correct_prediction)"
   ]
  },
  {
   "cell_type": "markdown",
   "metadata": {},
   "source": [
    "# RUN IT\n",
    "<p style=\"font-size:16px;\">\n",
    "    As you recall from lesson 1. So far we just prepared our computational graph. Now we need to start a session, initialize our variables, train and test te model:\n",
    "    "
   ]
  },
  {
   "cell_type": "code",
   "execution_count": 23,
   "metadata": {},
   "outputs": [],
   "source": [
    "session = tf.Session()\n",
    "session.run(tf.global_variables_initializer())"
   ]
  },
  {
   "cell_type": "code",
   "execution_count": 24,
   "metadata": {},
   "outputs": [],
   "source": [
    "train_batch_size = 64\n",
    "total_iterations = 0\n",
    "\n",
    "# The train function:\n",
    "def train(num_iterations):\n",
    "    global total_iterations\n",
    "    start_time = time.time()\n",
    "\n",
    "    for i in range(total_iterations,\n",
    "                   total_iterations + num_iterations):\n",
    "\n",
    "        # Get a batch of training examples.\n",
    "       \n",
    "        x_batch, y_batch = data.train.next_batch(train_batch_size)\n",
    "\n",
    "        # Put the batch into a placeholder feed dict \n",
    "        \n",
    "        feed_dict_train = {x: x_batch,\n",
    "                           y: y_batch}\n",
    "\n",
    "        # Run the optimizer on this batch\n",
    "        \n",
    "        session.run(optimizer, feed_dict=feed_dict_train)\n",
    "\n",
    "        # Print status every 100 iterations.\n",
    "        if i % 100 == 0:\n",
    "            # Calculate the accuracy on the training-set.\n",
    "            acc = session.run(accuracy, feed_dict=feed_dict_train)\n",
    "\n",
    "            # Message for printing.\n",
    "            msg = \"Optimization Iteration: {0:>6}, Training Accuracy: {1:>6.1%}\"\n",
    "\n",
    "            # Print it.\n",
    "            print(msg.format(i + 1, acc))\n",
    "\n",
    "    # Update the total number of iterations performed.\n",
    "    total_iterations += num_iterations\n",
    "\n",
    "    # Ending time.\n",
    "    end_time = time.time()\n",
    "\n",
    "    # Difference between start and end-times.\n",
    "    time_dif = end_time - start_time\n",
    "\n",
    "    # Print the time-usage.\n",
    "    print(\"Time usage: \" + str(timedelta(seconds=int(round(time_dif)))))\n"
   ]
  },
  {
   "cell_type": "code",
   "execution_count": 33,
   "metadata": {},
   "outputs": [],
   "source": [
    "test_batch_size = 256\n",
    "\n",
    "def test(show_errors=False, show_confusion=False, show_results = False):\n",
    "\n",
    "    num_test = len(data.test.images)\n",
    "\n",
    "    # Allocate an array for the predicted classes \n",
    "    cls_pred = np.zeros(shape=num_test, dtype=np.int)\n",
    "    \n",
    "    i = 0\n",
    "\n",
    "    while i < num_test:\n",
    "        # The ending index for the next batch is denoted j.\n",
    "        j = min(i + test_batch_size, num_test)\n",
    "\n",
    "        # Get the images from the test-set between index i and j.\n",
    "        images = data.test.images[i:j, :]\n",
    "\n",
    "        # Get the associated labels.\n",
    "        labels = data.test.labels[i:j, :]\n",
    "\n",
    "        # Create a feed-dict with these images and labels.\n",
    "        feed_dict = {x: images,\n",
    "                     y: labels}\n",
    "\n",
    "        # Calculate the predicted class using TensorFlow.\n",
    "        cls_pred[i:j] = session.run(y_predicted_cls, feed_dict=feed_dict)\n",
    "\n",
    "        # Set the start-index for the next batch to the\n",
    "        # end-index of the current batch.\n",
    "        i = j\n",
    "\n",
    "    # Convenience variable for the true class-numbers of the test-set.\n",
    "    cls_true = data.test.classes\n",
    "\n",
    "    # Create a boolean array whether each image is correctly classified.\n",
    "    correct = (cls_true == cls_pred)\n",
    "\n",
    "    # Calculate the number of correctly classified images.\n",
    "    # When summing a boolean array, False means 0 and True means 1.\n",
    "    correct_sum = correct.sum()\n",
    "\n",
    "    # Classification accuracy is the number of correctly classified\n",
    "    # images divided by the total number of images in the test-set.\n",
    "    acc = float(correct_sum) / num_test\n",
    "\n",
    "    # Print the accuracy.\n",
    "    msg = \"Accuracy on Test-Set: {0:.1%} ({1} / {2})\"\n",
    "    print(msg.format(acc, correct_sum, num_test))\n",
    "\n",
    "    # Plot some examples of mis-classifications, if desired.\n",
    "    if show_errors:\n",
    "        print(\"Example errors:\")\n",
    "        plot_errors(cls_pred=cls_pred, \n",
    "                            correct=correct, \n",
    "                            data_test_images=data.test.images,\n",
    "                            data_test_classes=data.test.classes )\n",
    "\n",
    "    # Plot the confusion matrix, if desired.\n",
    "    if show_confusion:\n",
    "        print(\"Confusion Matrix:\")\n",
    "        plot_confusion_matrix(cls_pred=cls_pred,\n",
    "                              data_test_cls=data.test.classes,\n",
    "                             num_classes=num_classes)\n",
    "        \n",
    "    # Plot the results.\n",
    "    if show_results:\n",
    "        print(\"Confusion Matrix:\")\n",
    "        plot(images=data.test.images[0:32],\n",
    "             img_shape=(28, 28),\n",
    "             given_class=data.test.classes[0:32],\n",
    "             predicted_class=cls_pred[0:32])"
   ]
  },
  {
   "cell_type": "markdown",
   "metadata": {},
   "source": [
    "## Testing as is...\n",
    "<p style=\"font-size:16px;\">\n",
    "Without any training this is where we are:"
   ]
  },
  {
   "cell_type": "code",
   "execution_count": 26,
   "metadata": {},
   "outputs": [
    {
     "name": "stdout",
     "output_type": "stream",
     "text": [
      "Accuracy on Test-Set: 9.7% (974 / 10000)\n"
     ]
    }
   ],
   "source": [
    "test()\n"
   ]
  },
  {
   "cell_type": "markdown",
   "metadata": {},
   "source": [
    "# Start training\n",
    "<p style=\"font-size:16px;\">\n",
    "Lets see how better we get with some optimization."
   ]
  },
  {
   "cell_type": "code",
   "execution_count": 27,
   "metadata": {},
   "outputs": [
    {
     "name": "stdout",
     "output_type": "stream",
     "text": [
      "Optimization Iteration:      1, Training Accuracy:   6.2%\n",
      "Time usage: 0:00:00\n"
     ]
    }
   ],
   "source": [
    "train(num_iterations=1)"
   ]
  },
  {
   "cell_type": "code",
   "execution_count": 28,
   "metadata": {},
   "outputs": [
    {
     "name": "stdout",
     "output_type": "stream",
     "text": [
      "Accuracy on Test-Set: 9.7% (973 / 10000)\n"
     ]
    }
   ],
   "source": [
    "test()"
   ]
  },
  {
   "cell_type": "markdown",
   "metadata": {},
   "source": [
    "<p style=\"font-size:16px;\">\n",
    "A little improvment . not really noticeable.<br>\n",
    "    Lets try completing 100 iterations."
   ]
  },
  {
   "cell_type": "code",
   "execution_count": 29,
   "metadata": {},
   "outputs": [
    {
     "name": "stdout",
     "output_type": "stream",
     "text": [
      "Time usage: 0:00:00\n"
     ]
    }
   ],
   "source": [
    "train(num_iterations=99)"
   ]
  },
  {
   "cell_type": "code",
   "execution_count": 30,
   "metadata": {},
   "outputs": [
    {
     "name": "stdout",
     "output_type": "stream",
     "text": [
      "Accuracy on Test-Set: 64.7% (6473 / 10000)\n",
      "Example errors:\n"
     ]
    },
    {
     "data": {
      "image/png": "[encoded data removed]",
      "text/plain": [
       "<Figure size 432x288 with 32 Axes>"
      ]
     },
     "metadata": {},
     "output_type": "display_data"
    }
   ],
   "source": [
    "test(show_example_errors=True)"
   ]
  },
  {
   "cell_type": "markdown",
   "metadata": {},
   "source": [
    "<p style=\"font-size:16px;\">\n",
    "Not so great. but what happends...\n",
    "    \n",
    "## After 1000 interations...\n"
   ]
  },
  {
   "cell_type": "code",
   "execution_count": 31,
   "metadata": {},
   "outputs": [
    {
     "name": "stdout",
     "output_type": "stream",
     "text": [
      "Optimization Iteration:    101, Training Accuracy:  64.1%\n",
      "Optimization Iteration:    201, Training Accuracy:  84.4%\n",
      "Optimization Iteration:    301, Training Accuracy:  93.8%\n",
      "Optimization Iteration:    401, Training Accuracy:  90.6%\n",
      "Optimization Iteration:    501, Training Accuracy:  92.2%\n",
      "Optimization Iteration:    601, Training Accuracy:  95.3%\n",
      "Optimization Iteration:    701, Training Accuracy:  87.5%\n",
      "Optimization Iteration:    801, Training Accuracy:  92.2%\n",
      "Optimization Iteration:    901, Training Accuracy:  90.6%\n",
      "Time usage: 0:00:03\n",
      "Accuracy on Test-Set: 93.3% (9333 / 10000)\n"
     ]
    }
   ],
   "source": [
    "train(num_iterations=900)\n",
    "test()"
   ]
  },
  {
   "cell_type": "markdown",
   "metadata": {},
   "source": [
    "<p style=\"font-size:16px;\">\n",
    "Not so shabby. and\n",
    "    \n",
    "## After 10000 interations..."
   ]
  },
  {
   "cell_type": "code",
   "execution_count": 32,
   "metadata": {},
   "outputs": [
    {
     "name": "stdout",
     "output_type": "stream",
     "text": [
      "Optimization Iteration:   1001, Training Accuracy:  90.6%\n",
      "Optimization Iteration:   1101, Training Accuracy:  93.8%\n",
      "Optimization Iteration:   1201, Training Accuracy:  95.3%\n",
      "Optimization Iteration:   1301, Training Accuracy:  93.8%\n",
      "Optimization Iteration:   1401, Training Accuracy:  95.3%\n",
      "Optimization Iteration:   1501, Training Accuracy:  92.2%\n",
      "Optimization Iteration:   1601, Training Accuracy:  96.9%\n",
      "Optimization Iteration:   1701, Training Accuracy:  93.8%\n",
      "Optimization Iteration:   1801, Training Accuracy:  96.9%\n",
      "Optimization Iteration:   1901, Training Accuracy:  96.9%\n",
      "Optimization Iteration:   2001, Training Accuracy:  95.3%\n",
      "Optimization Iteration:   2101, Training Accuracy:  95.3%\n",
      "Optimization Iteration:   2201, Training Accuracy: 100.0%\n",
      "Optimization Iteration:   2301, Training Accuracy: 100.0%\n",
      "Optimization Iteration:   2401, Training Accuracy:  98.4%\n",
      "Optimization Iteration:   2501, Training Accuracy:  96.9%\n",
      "Optimization Iteration:   2601, Training Accuracy:  98.4%\n",
      "Optimization Iteration:   2701, Training Accuracy: 100.0%\n",
      "Optimization Iteration:   2801, Training Accuracy:  92.2%\n",
      "Optimization Iteration:   2901, Training Accuracy:  98.4%\n",
      "Optimization Iteration:   3001, Training Accuracy:  98.4%\n",
      "Optimization Iteration:   3101, Training Accuracy:  95.3%\n",
      "Optimization Iteration:   3201, Training Accuracy:  98.4%\n",
      "Optimization Iteration:   3301, Training Accuracy:  98.4%\n",
      "Optimization Iteration:   3401, Training Accuracy:  98.4%\n",
      "Optimization Iteration:   3501, Training Accuracy:  98.4%\n",
      "Optimization Iteration:   3601, Training Accuracy:  96.9%\n",
      "Optimization Iteration:   3701, Training Accuracy:  96.9%\n",
      "Optimization Iteration:   3801, Training Accuracy:  96.9%\n",
      "Optimization Iteration:   3901, Training Accuracy:  95.3%\n",
      "Optimization Iteration:   4001, Training Accuracy:  96.9%\n",
      "Optimization Iteration:   4101, Training Accuracy:  98.4%\n",
      "Optimization Iteration:   4201, Training Accuracy: 100.0%\n",
      "Optimization Iteration:   4301, Training Accuracy:  96.9%\n",
      "Optimization Iteration:   4401, Training Accuracy:  98.4%\n",
      "Optimization Iteration:   4501, Training Accuracy:  93.8%\n",
      "Optimization Iteration:   4601, Training Accuracy:  98.4%\n",
      "Optimization Iteration:   4701, Training Accuracy:  96.9%\n",
      "Optimization Iteration:   4801, Training Accuracy: 100.0%\n",
      "Optimization Iteration:   4901, Training Accuracy:  98.4%\n",
      "Optimization Iteration:   5001, Training Accuracy:  98.4%\n",
      "Optimization Iteration:   5101, Training Accuracy:  95.3%\n",
      "Optimization Iteration:   5201, Training Accuracy:  96.9%\n",
      "Optimization Iteration:   5301, Training Accuracy:  96.9%\n",
      "Optimization Iteration:   5401, Training Accuracy:  95.3%\n",
      "Optimization Iteration:   5501, Training Accuracy: 100.0%\n",
      "Optimization Iteration:   5601, Training Accuracy:  98.4%\n",
      "Optimization Iteration:   5701, Training Accuracy: 100.0%\n",
      "Optimization Iteration:   5801, Training Accuracy: 100.0%\n",
      "Optimization Iteration:   5901, Training Accuracy: 100.0%\n",
      "Optimization Iteration:   6001, Training Accuracy: 100.0%\n",
      "Optimization Iteration:   6101, Training Accuracy: 100.0%\n",
      "Optimization Iteration:   6201, Training Accuracy:  96.9%\n",
      "Optimization Iteration:   6301, Training Accuracy:  98.4%\n",
      "Optimization Iteration:   6401, Training Accuracy: 100.0%\n",
      "Optimization Iteration:   6501, Training Accuracy:  98.4%\n",
      "Optimization Iteration:   6601, Training Accuracy:  98.4%\n",
      "Optimization Iteration:   6701, Training Accuracy: 100.0%\n",
      "Optimization Iteration:   6801, Training Accuracy:  98.4%\n",
      "Optimization Iteration:   6901, Training Accuracy:  98.4%\n",
      "Optimization Iteration:   7001, Training Accuracy:  98.4%\n",
      "Optimization Iteration:   7101, Training Accuracy:  96.9%\n",
      "Optimization Iteration:   7201, Training Accuracy:  98.4%\n",
      "Optimization Iteration:   7301, Training Accuracy:  96.9%\n",
      "Optimization Iteration:   7401, Training Accuracy:  98.4%\n",
      "Optimization Iteration:   7501, Training Accuracy: 100.0%\n",
      "Optimization Iteration:   7601, Training Accuracy:  98.4%\n",
      "Optimization Iteration:   7701, Training Accuracy: 100.0%\n",
      "Optimization Iteration:   7801, Training Accuracy:  96.9%\n",
      "Optimization Iteration:   7901, Training Accuracy:  98.4%\n",
      "Optimization Iteration:   8001, Training Accuracy:  98.4%\n",
      "Optimization Iteration:   8101, Training Accuracy: 100.0%\n",
      "Optimization Iteration:   8201, Training Accuracy:  98.4%\n",
      "Optimization Iteration:   8301, Training Accuracy:  95.3%\n",
      "Optimization Iteration:   8401, Training Accuracy:  95.3%\n",
      "Optimization Iteration:   8501, Training Accuracy: 100.0%\n",
      "Optimization Iteration:   8601, Training Accuracy: 100.0%\n",
      "Optimization Iteration:   8701, Training Accuracy:  98.4%\n",
      "Optimization Iteration:   8801, Training Accuracy:  98.4%\n",
      "Optimization Iteration:   8901, Training Accuracy: 100.0%\n",
      "Optimization Iteration:   9001, Training Accuracy:  96.9%\n",
      "Optimization Iteration:   9101, Training Accuracy:  96.9%\n",
      "Optimization Iteration:   9201, Training Accuracy: 100.0%\n",
      "Optimization Iteration:   9301, Training Accuracy:  98.4%\n",
      "Optimization Iteration:   9401, Training Accuracy: 100.0%\n",
      "Optimization Iteration:   9501, Training Accuracy:  98.4%\n",
      "Optimization Iteration:   9601, Training Accuracy: 100.0%\n",
      "Optimization Iteration:   9701, Training Accuracy:  93.8%\n",
      "Optimization Iteration:   9801, Training Accuracy:  96.9%\n",
      "Optimization Iteration:   9901, Training Accuracy: 100.0%\n",
      "Time usage: 0:00:31\n",
      "Accuracy on Test-Set: 98.5% (9845 / 10000)\n"
     ]
    }
   ],
   "source": [
    "train(num_iterations=9000)"
   ]
  },
  {
   "cell_type": "code",
   "execution_count": 40,
   "metadata": {},
   "outputs": [
    {
     "name": "stdout",
     "output_type": "stream",
     "text": [
      "Accuracy on Test-Set: 98.5% (9845 / 10000)\n",
      "Example errors:\n"
     ]
    },
    {
     "data": {
      "image/png": "[encoded data removed]",
      "text/plain": [
       "<Figure size 432x288 with 32 Axes>"
      ]
     },
     "metadata": {},
     "output_type": "display_data"
    },
    {
     "name": "stdout",
     "output_type": "stream",
     "text": [
      "Confusion Matrix:\n",
      "[[ 977    0    0    0    0    0    0    1    2    0]\n",
      " [   0 1131    1    0    0    0    1    1    1    0]\n",
      " [   4    1 1010    2    0    0    0   13    2    0]\n",
      " [   1    0    0 1002    0    1    0    4    2    0]\n",
      " [   0    0    1    0  973    0    0    2    0    6]\n",
      " [   2    0    0    5    0  881    1    1    0    2]\n",
      " [   9    4    0    1    4    6  934    0    0    0]\n",
      " [   1    1    2    1    0    0    0 1020    1    2]\n",
      " [   6    1    5    8    2    3    0   11  935    3]\n",
      " [   4    5    0    3    3    2    0   10    0  982]]\n"
     ]
    },
    {
     "data": {
      "image/png": "[encoded data removed]",
      "text/plain": [
       "<Figure size 288x288 with 2 Axes>"
      ]
     },
     "metadata": {},
     "output_type": "display_data"
    },
    {
     "name": "stdout",
     "output_type": "stream",
     "text": [
      "Confusion Matrix:\n"
     ]
    },
    {
     "data": {
      "image/png": "[encoded data removed]",
      "text/plain": [
       "<Figure size 432x288 with 32 Axes>"
      ]
     },
     "metadata": {},
     "output_type": "display_data"
    }
   ],
   "source": [
    "test(show_errors=True, show_confusion=True, show_results=True)"
   ]
  },
  {
   "cell_type": "code",
   "execution_count": null,
   "metadata": {},
   "outputs": [],
   "source": []
  }
 ],
 "metadata": {
  "kernelspec": {
   "display_name": "Python 3",
   "language": "python",
   "name": "python3"
  },
  "language_info": {
   "codemirror_mode": {
    "name": "ipython",
    "version": 3
   },
   "file_extension": ".py",
   "mimetype": "text/x-python",
   "name": "python",
   "nbconvert_exporter": "python",
   "pygments_lexer": "ipython3",
   "version": "3.5.2"
  }
 },
 "nbformat": 4,
 "nbformat_minor": 2
}
