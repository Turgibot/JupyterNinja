{
 "cells": [
  {
   "cell_type": "markdown",
   "metadata": {},
   "source": [
    "# Lesson 1"
   ]
  },
  {
   "cell_type": "markdown",
   "metadata": {},
   "source": [
    "## Linear Model with TensorFlow"
   ]
  },
  {
   "cell_type": "markdown",
   "metadata": {},
   "source": [
    "by [Guy Tordjman-GitHub](https://github.com/Turgibot)"
   ]
  },
  {
   "cell_type": "markdown",
   "metadata": {},
   "source": [
    "### About this lesson:\n",
    "<p style=\"font-size:16px;\">\n",
    "prerequisites:<br>\n",
    "To enjoy the most of this lesson one should be familiar with the python programming language, basic linear algebra like matrix multiplication and the jupyter notebook interface. \n",
    "Any knowledge of macine learning and classification is helpful but not required for the purpose of this lesson.\n",
    "At the end of this lesson you'll be able to classify images of digits and more important you'll understand a basic tensorflow workflow."
   ]
  },
  {
   "cell_type": "markdown",
   "metadata": {},
   "source": [
    "## Why TensorFlow?\n",
    "<p style=\"font-size:16px;\">\n",
    "    TensorFlow was originally created by researchers at Google as a single infrastructure for machine learning in both production and research. On the Tensorflow website, we see:<br><br>\n",
    "   “TensorFlow™ is an open source software library for\n",
    "    numerical computation using data flow graphs.”<br><br>\n",
    "    TensorFlow is both flexible and scalable, allowing users to streamline from research into production.\n",
    "<br>\n",
    "This unique position allowed TensorFlow to grow quickly. It’s currently being used by big companies such as Google, OpenAI, NVIDIA, Intel, SAP, eBay, Airbus, Uber, Airbnb, Snap, Dropbox and startups alike. By the number of stars and related repositories on GitHub as of Jan 11, 2018, TensorFlow is by far the most popular machine learning library with more than 85.4k stars and 25.3k related repositories, twice as much as the total stars and related repositories of Caffe, PyTorch, Torch, and Theano combined. \n",
    "<br>\n",
    "In summary, we chose TensorFlow because:\n",
    "\n",
    "<ul style=\"font-size:16px;\">\n",
    "    <li>Python API</li>\n",
    "<li>Portability: deploy computation to one or more CPUs or GPUs in a desktop, server, or mobile device with a single API</li>\n",
    "<li>Flexibility: from Raspberry Pi, Android, Windows, iOS, Linux to server farms</li>\n",
    "<li>Visualization (Lesson >=3 using 'TensorBoard')</li>\n",
    "<li>Save and restore models, graphs</li>\n",
    "<li>Auto-differentiation autodiff</li>\n",
    "<li>Large community (~300k commits, ~85k repositories)</li>\n"
   ]
  },
  {
   "cell_type": "markdown",
   "metadata": {},
   "source": [
    "# Code"
   ]
  },
  {
   "cell_type": "markdown",
   "metadata": {},
   "source": [
    "## Imports"
   ]
  },
  {
   "cell_type": "code",
   "execution_count": 2,
   "metadata": {},
   "outputs": [],
   "source": [
    "%matplotlib inline\n",
    "import matplotlib.pyplot as plt\n",
    "import tensorflow as tf\n",
    "import numpy as np\n",
    "from sklearn.metrics import confusion_matrix"
   ]
  },
  {
   "cell_type": "markdown",
   "metadata": {},
   "source": [
    "### TF version should be bigger than 1.4"
   ]
  },
  {
   "cell_type": "code",
   "execution_count": 3,
   "metadata": {},
   "outputs": [
    {
     "data": {
      "text/plain": [
       "'1.7.0'"
      ]
     },
     "execution_count": 3,
     "metadata": {},
     "output_type": "execute_result"
    }
   ],
   "source": [
    "tf.__version__"
   ]
  },
  {
   "cell_type": "markdown",
   "metadata": {},
   "source": [
    "## Getting the data \n",
    "<p style=\"font-size:16px;\">\n",
    "Downloading the 12MB data-set to a specific path \n",
    "    "
   ]
  },
  {
   "cell_type": "code",
   "execution_count": 4,
   "metadata": {},
   "outputs": [],
   "source": [
    "import mnist\n",
    "\n",
    "train_images = mnist.train_images()\n",
    "train_labels = mnist.train_labels()\n",
    "\n",
    "test_images = mnist.test_images()\n",
    "test_labels = mnist.test_labels()"
   ]
  },
  {
   "cell_type": "markdown",
   "metadata": {},
   "source": [
    "Get the size of the data set"
   ]
  },
  {
   "cell_type": "code",
   "execution_count": 5,
   "metadata": {},
   "outputs": [
    {
     "name": "stdout",
     "output_type": "stream",
     "text": [
      "Training-set:\t60000\n",
      "Test-set:\t10000\n"
     ]
    }
   ],
   "source": [
    "train_len = len(train_labels)\n",
    "test_len = len(test_labels)\n",
    "print('Training-set:\\t{}'.format(train_len))\n",
    "print('Test-set:\\t{}'.format(test_len))"
   ]
  },
  {
   "cell_type": "markdown",
   "metadata": {},
   "source": [
    "## Set One Hot Encoding\n",
    "<p style=\"font-size:16px;\">\n",
    "    Our labels are simply the number which is represented in the image. <br>Here are the first 5 labels:"
   ]
  },
  {
   "cell_type": "code",
   "execution_count": 6,
   "metadata": {},
   "outputs": [
    {
     "data": {
      "text/plain": [
       "array([7, 2, 1, 0, 4], dtype=uint8)"
      ]
     },
     "execution_count": 6,
     "metadata": {},
     "output_type": "execute_result"
    }
   ],
   "source": [
    "test_labels[0:5]"
   ]
  },
  {
   "cell_type": "markdown",
   "metadata": {},
   "source": [
    "<p style=\"font-size:16px;\"> In one hot representation the number represents the index which value is 1 where the rest are 0's.\n",
    "We are classifying 10 digits (0 - 9), therefor a vector og length=10 is needed to represent each label.\n",
    "For example the label where the digit is 7 is represented by: '[0,0,0,0,0,0,0,1,0,0]'.\n",
    "Lets create a function that converts to one hot.</p>"
   ]
  },
  {
   "cell_type": "code",
   "execution_count": 7,
   "metadata": {},
   "outputs": [],
   "source": [
    "def convert_to_one_hot(vector, num_classes):\n",
    "    result = np.zeros(shape=(len(vector), num_classes))\n",
    "    result[np.arange(len(vector)), vector] = 1\n",
    "    return result.astype(int)"
   ]
  },
  {
   "cell_type": "code",
   "execution_count": 8,
   "metadata": {},
   "outputs": [],
   "source": [
    "num_classes = 10\n",
    "test_labels_oh = convert_to_one_hot(test_labels, num_classes)"
   ]
  },
  {
   "cell_type": "code",
   "execution_count": 9,
   "metadata": {},
   "outputs": [
    {
     "data": {
      "text/plain": [
       "array([[0, 0, 0, 0, 0, 0, 0, 1, 0, 0],\n",
       "       [0, 0, 1, 0, 0, 0, 0, 0, 0, 0],\n",
       "       [0, 1, 0, 0, 0, 0, 0, 0, 0, 0],\n",
       "       [1, 0, 0, 0, 0, 0, 0, 0, 0, 0],\n",
       "       [0, 0, 0, 0, 1, 0, 0, 0, 0, 0]])"
      ]
     },
     "execution_count": 9,
     "metadata": {},
     "output_type": "execute_result"
    }
   ],
   "source": [
    "test_labels_oh[0:5]"
   ]
  },
  {
   "cell_type": "markdown",
   "metadata": {},
   "source": [
    "## Get The Image Data\n",
    "<p style=\"font-size:16px;\">\n",
    "    For future calculations we would need to know the dimentions of the image we work with.<br>\n",
    "    our list contains of 10000 images and each it a 3d matrix (2d - in black n white images like MNIST) "
   ]
  },
  {
   "cell_type": "code",
   "execution_count": 10,
   "metadata": {},
   "outputs": [
    {
     "name": "stdout",
     "output_type": "stream",
     "text": [
      "The image shape is: (28, 28)\n"
     ]
    }
   ],
   "source": [
    "single_image = train_images[0]\n",
    "image_rows = len(single_image)\n",
    "image_cols = len(single_image[0])\n",
    "image_flat_size = image_cols * image_rows\n",
    "img_shape = (image_rows, image_cols)\n",
    "print('The image shape is: {}'.format(img_shape))"
   ]
  },
  {
   "cell_type": "markdown",
   "metadata": {},
   "source": [
    "## Plot the Images\n",
    "<p style=\"font-size:16px;\">\n",
    "    Create a helper function that display a 4X8 grid of images with the classification results noted"
   ]
  },
  {
   "cell_type": "code",
   "execution_count": 11,
   "metadata": {},
   "outputs": [],
   "source": [
    "def plot_images_grid(images, img_shape, given_class, predicted_class=None):\n",
    "    assert len(images) == 32\n",
    "    assert len(given_class) == 32\n",
    "    \n",
    "    fig, axes = plt.subplots(4, 8)\n",
    "    fig.subplots_adjust(hspace=0.3, wspace=0.3)\n",
    "\n",
    "    for i, ax in enumerate(axes.flat):\n",
    "        # Plot each image\n",
    "        ax.imshow(images[i].reshape(img_shape), cmap='binary')\n",
    "\n",
    "        # Show given and predicted classes if exists.\n",
    "        if predicted_class is None:\n",
    "            xlabel = \"Class: {0}\".format(given_class[i])\n",
    "        else:\n",
    "            xlabel = \"Class: {0}, Predicted: {1}\".format(given_class[i], predicted_class[i])\n",
    "\n",
    "        ax.set_xlabel(xlabel)\n",
    "        \n",
    "        # Remove ticks from the plot.\n",
    "        ax.set_xticks([])\n",
    "        ax.set_yticks([])\n",
    "        \n",
    "    # Ensure the plot is shown correctly with multiple plots\n",
    "    # in a single Notebook cell.\n",
    "    plt.show()"
   ]
  },
  {
   "cell_type": "code",
   "execution_count": 12,
   "metadata": {},
   "outputs": [
    {
     "data": {
      "image/png": "[encoded data removed]",
      "text/plain": [
       "<Figure size 432x288 with 32 Axes>"
      ]
     },
     "metadata": {},
     "output_type": "display_data"
    }
   ],
   "source": [
    "sample_images = test_images[0:32]\n",
    "classes = test_labels[0:32]\n",
    "plot_images_grid(sample_images, img_shape, classes)"
   ]
  },
  {
   "cell_type": "markdown",
   "metadata": {},
   "source": [
    "# TF.Graph\n",
    "<p style=\"font-size:16px;\">\n",
    "    A graph consists of nodes and edges that represent the computation procedure. To simplify things for now we'll agree that Tensor flow uses a computational graph that is executed much more efficiently than if the same calculations were to be performed directly in Python. <br>\n",
    "   Next, we shell construct the graph and explain in details about each part below:"
   ]
  },
  {
   "cell_type": "markdown",
   "metadata": {},
   "source": [
    "## Place Holder Variable\n",
    "<p style=\"font-size:16px;\">\n",
    "    A placeholder is a type of variable which purpose is exactly as it's name suggests - to hold a place for an input. One can look at it as a promise of the developer to feed data into this the graph when time comes."
   ]
  },
  {
   "cell_type": "code",
   "execution_count": 13,
   "metadata": {},
   "outputs": [],
   "source": [
    "x = tf.placeholder(tf.float32, [None, image_flat_size])\n",
    "y_predicted = tf.placeholder(tf.float32, [None, num_classes])\n",
    "y_given = tf.placeholder(tf.int64, [None])"
   ]
  },
  {
   "cell_type": "markdown",
   "metadata": {},
   "source": [
    "<p style=\"font-size:16px;\">\n",
    "    When printed we can see information about the placeholder:"
   ]
  },
  {
   "cell_type": "code",
   "execution_count": 14,
   "metadata": {},
   "outputs": [
    {
     "data": {
      "text/plain": [
       "<tf.Tensor 'Placeholder:0' shape=(?, 784) dtype=float32>"
      ]
     },
     "execution_count": 14,
     "metadata": {},
     "output_type": "execute_result"
    }
   ],
   "source": [
    "x"
   ]
  },
  {
   "cell_type": "code",
   "execution_count": 15,
   "metadata": {},
   "outputs": [
    {
     "data": {
      "text/plain": [
       "<tf.Tensor 'Placeholder_1:0' shape=(?, 10) dtype=float32>"
      ]
     },
     "execution_count": 15,
     "metadata": {},
     "output_type": "execute_result"
    }
   ],
   "source": [
    "y_predicted"
   ]
  },
  {
   "cell_type": "code",
   "execution_count": 16,
   "metadata": {},
   "outputs": [
    {
     "data": {
      "text/plain": [
       "<tf.Tensor 'Placeholder_2:0' shape=(?,) dtype=int64>"
      ]
     },
     "execution_count": 16,
     "metadata": {},
     "output_type": "execute_result"
    }
   ],
   "source": [
    "y_given"
   ]
  },
  {
   "cell_type": "markdown",
   "metadata": {},
   "source": [
    "<p style=\"font-size:16px;\">\n",
    "    <strong>x</strong> is the placeholder variable for the input images. It is a tensor which means a multi-dimensional vector or matrix.  The data-type is set to float32 and the shape is set to [None, image_flat_size], where None means that the tensor may hold any number of images with each image being a vector of length image_flat_size(28*28=784 in our case)."
   ]
  },
  {
   "cell_type": "markdown",
   "metadata": {},
   "source": [
    "<p style=\"font-size:16px;\">\n",
    "    <strong>y_predicted</strong> is the placeholder variable for the predicted labels of the input images in the placeholder variable x. The shape of this placeholder variable is [None, num_classes] which means it may hold any number of labels and each label is a vector of length num_classes (10)."
   ]
  },
  {
   "cell_type": "markdown",
   "metadata": {},
   "source": [
    "<p style=\"font-size:16px;\">\n",
    "    <strong>y_given</strong> is the placeholder variable for the actual class of each image in the placeholder variable x. These are integers and the dimensionality of this placeholder variable is set to [None] which means the placeholder variable is a one-dimensional vector of any length."
   ]
  },
  {
   "cell_type": "markdown",
   "metadata": {},
   "source": [
    "# Tf.Varable - Weights and Biases\n",
    "<p style=\"font-size:16px;\">\n",
    "As mentioned - the purpose of placeholder are to feed input data into the graph. Other than input and output there are other variables that need to be calculated and changed and optimized when running the program. These are called tf.Variables. <br>\n",
    "    TensorFlow recommends that we use the wrapper tf.get_variable, which allows for easy variable sharing. With tf.get_variable, we can provide variable’s internal name, shape, type, and initializer to give the variable its initial value.\n",
    "    <br><br>\n",
    "    tf.get_variable(<br>\n",
    "    name,<br>\n",
    "    shape=None,<br>\n",
    "    dtype=None,<br>\n",
    "    initializer=None,<br>\n",
    "    regularizer=None,<br>\n",
    "    trainable=True,<br>\n",
    "    collections=None,<br>\n",
    "    caching_device=None,<br>\n",
    "    partitioner=None,<br>\n",
    "    validate_shape=True,<br>\n",
    "    use_resource=None,<br>\n",
    "    custom_getter=None,<br>\n",
    "    constraint=None<br>\n",
    ")<br>\n",
    "<br>"
   ]
  },
  {
   "cell_type": "code",
   "execution_count": 17,
   "metadata": {},
   "outputs": [],
   "source": [
    "weights = tf.get_variable('weights', initializer=tf.zeros([image_flat_size, num_classes]))\n",
    "biases = tf.get_variable('biases', initializer=tf.zeros([num_classes]))"
   ]
  },
  {
   "cell_type": "markdown",
   "metadata": {},
   "source": [
    "<p style=\"font-size:16px;\">\n",
    "    <strong>weights</strong> is a TensorFlow variable and is initialized with zeros. It's shape is [image_flat_size, num_classes], a 2-dimensional matrix with 784 (image_flat_size) rows and 10 (num_classes) columns.<br><br>\n",
    "    We can see this info by priniting it in browser:"
   ]
  },
  {
   "cell_type": "code",
   "execution_count": 18,
   "metadata": {},
   "outputs": [
    {
     "data": {
      "text/plain": [
       "<tf.Variable 'weights:0' shape=(784, 10) dtype=float32_ref>"
      ]
     },
     "execution_count": 18,
     "metadata": {},
     "output_type": "execute_result"
    }
   ],
   "source": [
    "weights"
   ]
  },
  {
   "cell_type": "markdown",
   "metadata": {},
   "source": [
    "<p style=\"font-size:16px;\">\n",
    "    <strong>biases</strong> is a vector of length num_classes\n",
    "    We can also see this info by priniting it in browser:"
   ]
  },
  {
   "cell_type": "code",
   "execution_count": 19,
   "metadata": {},
   "outputs": [
    {
     "data": {
      "text/plain": [
       "<tf.Variable 'biases:0' shape=(10,) dtype=float32_ref>"
      ]
     },
     "execution_count": 19,
     "metadata": {},
     "output_type": "execute_result"
    }
   ],
   "source": [
    "biases"
   ]
  },
  {
   "cell_type": "markdown",
   "metadata": {},
   "source": [
    "# Mathematical Model\n",
    "<p style=\"font-size:16px;\">\n",
    "    Now that we have our placeholders (for input) and our variables defined we can do something with them - we can build a model.\n",
    "   This is the first lesson so the model is very basic.<br>\n",
    "    It multiplies the images in the placeholder variable x with the weights and then adds the biases.\n",
    "    It then stores the the result in a matrix typically named logits:  \n"
   ]
  },
  {
   "cell_type": "code",
   "execution_count": 20,
   "metadata": {},
   "outputs": [],
   "source": [
    "logits = tf.matmul(x, weights) + biases"
   ]
  },
  {
   "cell_type": "markdown",
   "metadata": {},
   "source": [
    "<p style=\"font-size:16px;\">\n",
    "x has a shape of( train_len, image_flat_size) -> (6000, 784)<br>\n",
    "weights has a shape of (image_flat_size, num_classes) -> (784, 10)<br>\n",
    "so the result is of shape (train_len, num_classes) -> (6000, 10) <br>\n",
    "    That means that each image of the 6000 links to a vector with 10 posibilities...\n",
    "    <br>\n",
    "    Remember the promise we made? we should store the result in the \"y_predicted\" placeholder.\n",
    "    but before lets normalize the results so each vector of 10 options will sum to 1 so each element's value is limited between 0 and 1. For that we use the softmax function. We will learn in more details about this function in a future lesson. "
   ]
  },
  {
   "cell_type": "code",
   "execution_count": 21,
   "metadata": {},
   "outputs": [],
   "source": [
    "y_predicted = tf.nn.softmax(logits)"
   ]
  },
  {
   "cell_type": "code",
   "execution_count": null,
   "metadata": {},
   "outputs": [],
   "source": []
  }
 ],
 "metadata": {
  "kernelspec": {
   "display_name": "Python 3",
   "language": "python",
   "name": "python3"
  },
  "language_info": {
   "codemirror_mode": {
    "name": "ipython",
    "version": 3
   },
   "file_extension": ".py",
   "mimetype": "text/x-python",
   "name": "python",
   "nbconvert_exporter": "python",
   "pygments_lexer": "ipython3",
   "version": "3.5.2"
  }
 },
 "nbformat": 4,
 "nbformat_minor": 2
}
