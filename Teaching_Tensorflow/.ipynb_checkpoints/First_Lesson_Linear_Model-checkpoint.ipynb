{
 "cells": [
  {
   "cell_type": "markdown",
   "metadata": {},
   "source": [
    "# Lesson 1  Linear Model with TensorFlow"
   ]
  },
  {
   "cell_type": "markdown",
   "metadata": {},
   "source": [
    "by [Guy Tordjman-GitHub](https://github.com/Turgibot)"
   ]
  },
  {
   "cell_type": "markdown",
   "metadata": {},
   "source": [
    "### About this lesson:\n",
    "<p style=\"font-size:16px;\">\n",
    "prerequisites:<br>\n",
    "To enjoy the most of this lesson one should be familiar with the python programming language, basic linear algebra like matrix multiplication, gradient descent and the jupyter notebook interface. \n",
    "Any knowledge of machine learning and classification is helpful but not required for the purpose of this lesson.\n",
    "At the end of this lesson you'll be able to classify images of digits and more important you'll understand a basic tensorflow workflow."
   ]
  },
  {
   "cell_type": "markdown",
   "metadata": {},
   "source": [
    "## Why TensorFlow?\n",
    "<p style=\"font-size:16px;\">\n",
    "    TensorFlow was originally created by researchers at Google as a single infrastructure for machine learning in both production and research. On the Tensorflow website, we see:<br><br>\n",
    "   “TensorFlow™ is an open source software library for\n",
    "    numerical computation using data flow graphs.”<br><br>\n",
    "    TensorFlow is both flexible and scalable, allowing users to streamline from research into production.\n",
    "<br>\n",
    "This unique position allowed TensorFlow to grow quickly. It’s currently being used by big companies such as Google, OpenAI, NVIDIA, Intel, SAP, eBay, Airbus, Uber, Airbnb, Snap, Dropbox and startups alike. By the number of stars and related repositories on GitHub as of Jan 11, 2018, TensorFlow is by far the most popular machine learning library with more than 85.4k stars and 25.3k related repositories, twice as much as the total stars and related repositories of Caffe, PyTorch, Torch, and Theano combined. \n",
    "<br>\n",
    "In summary, we chose TensorFlow because:\n",
    "\n",
    "<ul style=\"font-size:16px;\">\n",
    "    <li>Python API</li>\n",
    "<li>Portability: deploy computation to one or more CPUs or GPUs in a desktop, server, or mobile device with a single API</li>\n",
    "<li>Flexibility: from Raspberry Pi, Android, Windows, iOS, Linux to server farms</li>\n",
    "<li>Visualization (Lesson >=3 using 'TensorBoard')</li>\n",
    "<li>Save and restore models, graphs</li>\n",
    "<li>Auto-differentiation autodiff</li>\n",
    "<li>Large community (~300k commits, ~85k repositories)</li>\n"
   ]
  },
  {
   "cell_type": "markdown",
   "metadata": {},
   "source": [
    "# Code"
   ]
  },
  {
   "cell_type": "markdown",
   "metadata": {},
   "source": [
    "## Imports"
   ]
  },
  {
   "cell_type": "code",
   "execution_count": 1,
   "metadata": {},
   "outputs": [
    {
     "name": "stdout",
     "output_type": "stream",
     "text": [
      "WARNING:tensorflow:From /usr/local/lib/python3.5/dist-packages/tensorflow/contrib/learn/python/learn/datasets/base.py:198: retry (from tensorflow.contrib.learn.python.learn.datasets.base) is deprecated and will be removed in a future version.\n",
      "Instructions for updating:\n",
      "Use the retry module or similar alternatives.\n"
     ]
    }
   ],
   "source": [
    "%matplotlib inline\n",
    "import matplotlib.pyplot as plt\n",
    "import tensorflow as tf\n",
    "import numpy as np\n",
    "from sklearn.metrics import confusion_matrix\n",
    "from tensorflow.contrib.learn.python.learn.datasets.mnist import read_data_sets"
   ]
  },
  {
   "cell_type": "markdown",
   "metadata": {},
   "source": [
    "### TF version should be bigger than 1.4"
   ]
  },
  {
   "cell_type": "code",
   "execution_count": 2,
   "metadata": {},
   "outputs": [
    {
     "data": {
      "text/plain": [
       "'1.7.0'"
      ]
     },
     "execution_count": 2,
     "metadata": {},
     "output_type": "execute_result"
    }
   ],
   "source": [
    "tf.__version__"
   ]
  },
  {
   "cell_type": "markdown",
   "metadata": {},
   "source": [
    "## Getting the data \n",
    "<p style=\"font-size:16px;\">\n",
    "Downloading the 12MB data-set to a specific path \n",
    "    "
   ]
  },
  {
   "cell_type": "code",
   "execution_count": 3,
   "metadata": {},
   "outputs": [],
   "source": [
    "import mnist\n",
    "train_images = mnist.train_images()\n",
    "train_labels = mnist.train_labels()\n",
    "test_images = mnist.test_images()\n",
    "test_labels = mnist.test_labels()\n",
    "eval_images = train_images[:5000]\n",
    "eval_labels = train_labels[:5000]\n",
    "train_images = train_images[5000:]\n",
    "train_labels = train_labels[5000:]"
   ]
  },
  {
   "cell_type": "markdown",
   "metadata": {},
   "source": [
    "Get the size of the data set"
   ]
  },
  {
   "cell_type": "code",
   "execution_count": 4,
   "metadata": {},
   "outputs": [
    {
     "name": "stdout",
     "output_type": "stream",
     "text": [
      "Training-set:\t55000\n",
      "Test-set:\t10000\n",
      "Evaluation-set:\t5000\n"
     ]
    }
   ],
   "source": [
    "train_len = len(train_labels)\n",
    "test_len = len(test_labels)\n",
    "eval_len = len(eval_labels)\n",
    "print('Training-set:\\t{}'.format(train_len))\n",
    "print('Test-set:\\t{}'.format(test_len))\n",
    "print('Evaluation-set:\\t{}'.format(eval_len))"
   ]
  },
  {
   "cell_type": "markdown",
   "metadata": {},
   "source": [
    "Lets arrange the data in a dictionary data structure"
   ]
  },
  {
   "cell_type": "markdown",
   "metadata": {},
   "source": [
    "## Set One Hot Encoding\n",
    "<p style=\"font-size:16px;\">\n",
    "    Our labels are simply the number which is represented in the image. <br>Here are the first 5 labels:"
   ]
  },
  {
   "cell_type": "code",
   "execution_count": 5,
   "metadata": {},
   "outputs": [
    {
     "data": {
      "text/plain": [
       "array([7, 2, 1, 0, 4], dtype=uint8)"
      ]
     },
     "execution_count": 5,
     "metadata": {},
     "output_type": "execute_result"
    }
   ],
   "source": [
    "test_labels[0:5]"
   ]
  },
  {
   "cell_type": "markdown",
   "metadata": {},
   "source": [
    "<p style=\"font-size:16px;\"> In one hot representation the number represents the index which value is 1 where the rest are 0's.\n",
    "We are classifying 10 digits (0 - 9), therefor a vector og length=10 is needed to represent each label.\n",
    "For example the label where the digit is 7 is represented by: '[0,0,0,0,0,0,0,1,0,0]'.\n",
    "Lets create a function that converts to one hot.</p>"
   ]
  },
  {
   "cell_type": "code",
   "execution_count": 6,
   "metadata": {},
   "outputs": [],
   "source": [
    "def convert_to_one_hot(vector, num_classes):\n",
    "    result = np.zeros(shape=(len(vector), num_classes))\n",
    "    result[np.arange(len(vector)), vector] = 1\n",
    "    return result.astype(int)"
   ]
  },
  {
   "cell_type": "code",
   "execution_count": 7,
   "metadata": {},
   "outputs": [],
   "source": [
    "num_classes = 10\n",
    "test_labels_oh = convert_to_one_hot(test_labels, num_classes)\n",
    "train_labels_oh = convert_to_one_hot(train_labels, num_classes)\n",
    "eval_labels_oh = convert_to_one_hot(eval_labels, num_classes)"
   ]
  },
  {
   "cell_type": "code",
   "execution_count": 8,
   "metadata": {},
   "outputs": [
    {
     "data": {
      "text/plain": [
       "array([[0, 0, 0, 0, 0, 0, 0, 1, 0, 0],\n",
       "       [0, 0, 1, 0, 0, 0, 0, 0, 0, 0],\n",
       "       [0, 1, 0, 0, 0, 0, 0, 0, 0, 0],\n",
       "       [1, 0, 0, 0, 0, 0, 0, 0, 0, 0],\n",
       "       [0, 0, 0, 0, 1, 0, 0, 0, 0, 0]])"
      ]
     },
     "execution_count": 8,
     "metadata": {},
     "output_type": "execute_result"
    }
   ],
   "source": [
    "test_labels_oh[0:5]"
   ]
  },
  {
   "cell_type": "markdown",
   "metadata": {},
   "source": [
    "Note that we converted all the labels in our data set to one hot.<br>\n",
    "Now, lets organize it in a dictionary data structure\n",
    "Before we should flatten the 28 * 28 images to a 1 dimention 784 long vector "
   ]
  },
  {
   "cell_type": "code",
   "execution_count": null,
   "metadata": {},
   "outputs": [],
   "source": []
  },
  {
   "cell_type": "code",
   "execution_count": 9,
   "metadata": {},
   "outputs": [],
   "source": [
    "class Input:\n",
    "    \n",
    "    def __init__(self, images, labels, classes):\n",
    "        self.data_set_size = len(labels)\n",
    "        self.images = images\n",
    "        self.labels = labels\n",
    "        self.classes = classes\n",
    "        self.processed = 0\n",
    "        self.epoc_done = False\n",
    "    \n",
    "    def next_batch(self,batch_size):\n",
    "        start = self.processed\n",
    "        end = start+batch_size\n",
    "        if end >= self.data_set_size:\n",
    "            end = self.data_set_size-1\n",
    "            self.epoc_done = True\n",
    "        self.processed = end\n",
    "        img_batch = self.images[start:end]\n",
    "        label_batch = self.labels[start:end]\n",
    "        classes_batch = self.classes[start:end]\n",
    "        \n",
    "        if self.epoc_done is True:\n",
    "            self.processed = 0\n",
    "            self.epoc_done = False\n",
    "        \n",
    "        return (img_batch, label_batch, classes_batch)\n",
    "            \n",
    "        \n",
    "    \n",
    "class Data:\n",
    "    #reshape the images\n",
    "    train_images_rs = np.reshape(train_images, (55000, 784))\n",
    "    test_images_rs =  np.reshape(test_images, (10000, 784))\n",
    "    eval_images_rs = np.reshape(eval_images, (5000, 784))\n",
    "    \n",
    "    train = Input(train_images_rs,train_labels_oh,train_labels)\n",
    "    test = Input(test_images_rs,test_labels_oh,test_labels)\n",
    "    evaluation = Input(eval_images_rs,eval_labels_oh,eval_labels)\n",
    "\n",
    "data = Data()"
   ]
  },
  {
   "cell_type": "markdown",
   "metadata": {},
   "source": [
    "## Get The Image Data\n",
    "<p style=\"font-size:16px;\">\n",
    "    For future calculations we would need to know the dimentions of the image we work with.<br>\n",
    "    our list contains of 10000 images and each it a 3d matrix (2d - in black n white images like MNIST) "
   ]
  },
  {
   "cell_type": "code",
   "execution_count": 10,
   "metadata": {},
   "outputs": [
    {
     "name": "stdout",
     "output_type": "stream",
     "text": [
      "The image shape is: (28, 28)\n"
     ]
    }
   ],
   "source": [
    "single_image = train_images[0]\n",
    "img_shape = single_image.shape\n",
    "image_flat_size = img_shape[0]*img_shape[1]\n",
    "print('The image shape is: {}'.format(img_shape))"
   ]
  },
  {
   "cell_type": "markdown",
   "metadata": {},
   "source": [
    "## Plot the Images\n",
    "<p style=\"font-size:16px;\">\n",
    "    Create a helper function that display a 4X8 grid of images with the classification results noted"
   ]
  },
  {
   "cell_type": "code",
   "execution_count": 11,
   "metadata": {},
   "outputs": [],
   "source": [
    "def plot_images_grid(images, img_shape, given_class, predicted_class=None):\n",
    "    assert len(images) == 32\n",
    "    assert len(given_class) == 32\n",
    "    \n",
    "    fig, axes = plt.subplots(4, 8)\n",
    "    fig.subplots_adjust(hspace=0.5, wspace=0.05, left=0, right=2.3)\n",
    "\n",
    "    for i, ax in enumerate(axes.flat):\n",
    "        # Plot each image\n",
    "        ax.imshow(images[i].reshape(img_shape), cmap='binary')\n",
    "\n",
    "        # Show given and predicted classes if exists.\n",
    "        if predicted_class is None:\n",
    "            xlabel = \"Class: {0}\".format(given_class[i])\n",
    "            ax.set_xlabel(xlabel)\n",
    "                \n",
    "        else:\n",
    "            xlabel = \"Class: {0}, Predicted: {1}\".format(given_class[i], predicted_class[i])\n",
    "            if given_class[i] == predicted_class[i]:\n",
    "                ax.set_xlabel(xlabel, color='green')\n",
    "            else:\n",
    "                ax.set_xlabel(xlabel)\n",
    "                ax.set_xlabel(xlabel, color='red')\n",
    "                \n",
    "\n",
    "        \n",
    "        \n",
    "        # Remove ticks from the plot.\n",
    "        ax.set_xticks([])\n",
    "        ax.set_yticks([])\n",
    "        \n",
    "    # Ensure the plot is shown correctly with multiple plots\n",
    "    # in a single Notebook cell.\n",
    "    plt.show()"
   ]
  },
  {
   "cell_type": "code",
   "execution_count": 12,
   "metadata": {},
   "outputs": [
    {
     "data": {
      "image/png": "[encoded data removed]",
      "text/plain": [
       "<Figure size 432x288 with 32 Axes>"
      ]
     },
     "metadata": {},
     "output_type": "display_data"
    }
   ],
   "source": [
    "sample_images = data.train.images[0:32]\n",
    "classes = data.train.classes[0:32]\n",
    "plot_images_grid(sample_images, img_shape, classes)"
   ]
  },
  {
   "cell_type": "markdown",
   "metadata": {},
   "source": [
    "# TF.Graph\n",
    "<p style=\"font-size:16px;\">\n",
    "    A graph consists of nodes and edges that represent the computation procedure. To simplify things for now we'll agree that Tensor flow uses a computational graph that is executed much more efficiently than if the same calculations were to be performed directly in Python. <br>\n",
    "   Next, we shell construct the graph and explain in details about each part below:"
   ]
  },
  {
   "cell_type": "markdown",
   "metadata": {},
   "source": [
    "## Place Holder Variable\n",
    "<p style=\"font-size:16px;\">\n",
    "    A placeholder is a type of variable which purpose is exactly as it's name suggests - to hold a place for an input. One can look at it as a promise of the developer to feed data into this the graph when time comes."
   ]
  },
  {
   "cell_type": "code",
   "execution_count": 13,
   "metadata": {},
   "outputs": [],
   "source": [
    "x = tf.placeholder(tf.float32, [None, image_flat_size])\n",
    "y_given = tf.placeholder(tf.float32, [None, num_classes])\n",
    "y_given_class = tf.placeholder(tf.int64, [None])"
   ]
  },
  {
   "cell_type": "markdown",
   "metadata": {},
   "source": [
    "<p style=\"font-size:16px;\">\n",
    "    When printed we can see information about the placeholder:"
   ]
  },
  {
   "cell_type": "code",
   "execution_count": 14,
   "metadata": {},
   "outputs": [
    {
     "data": {
      "text/plain": [
       "<tf.Tensor 'Placeholder:0' shape=(?, 784) dtype=float32>"
      ]
     },
     "execution_count": 14,
     "metadata": {},
     "output_type": "execute_result"
    }
   ],
   "source": [
    "x"
   ]
  },
  {
   "cell_type": "code",
   "execution_count": 15,
   "metadata": {},
   "outputs": [
    {
     "data": {
      "text/plain": [
       "<tf.Tensor 'Placeholder_1:0' shape=(?, 10) dtype=float32>"
      ]
     },
     "execution_count": 15,
     "metadata": {},
     "output_type": "execute_result"
    }
   ],
   "source": [
    "y_given"
   ]
  },
  {
   "cell_type": "code",
   "execution_count": 16,
   "metadata": {},
   "outputs": [
    {
     "data": {
      "text/plain": [
       "<tf.Tensor 'Placeholder_2:0' shape=(?,) dtype=int64>"
      ]
     },
     "execution_count": 16,
     "metadata": {},
     "output_type": "execute_result"
    }
   ],
   "source": [
    "y_given_class"
   ]
  },
  {
   "cell_type": "markdown",
   "metadata": {},
   "source": [
    "<p style=\"font-size:16px;\">\n",
    "    <strong>x</strong> is the placeholder variable for the input images. It is a tensor which means a multi-dimensional vector or matrix.  The data-type is set to float32 and the shape is set to [None, image_flat_size], where None means that the tensor may hold any number of images with each image being a vector of length image_flat_size(28*28=784 in our case)."
   ]
  },
  {
   "cell_type": "markdown",
   "metadata": {},
   "source": [
    "<p style=\"font-size:16px;\">\n",
    "    <strong>y_given</strong> is the placeholder variable for the given labels of the input images in the placeholder variable x. The shape of this placeholder variable is [None, num_classes] which means it may hold any number of labels and each label is a vector of length num_classes (10)."
   ]
  },
  {
   "cell_type": "markdown",
   "metadata": {},
   "source": [
    "<p style=\"font-size:16px;\">\n",
    "    <strong>y_given_class</strong> is the placeholder variable for the actual class of each image in the placeholder variable x. These are integers and the dimensionality of this placeholder variable is set to [None] which means the placeholder variable is a one-dimensional vector of any length."
   ]
  },
  {
   "cell_type": "markdown",
   "metadata": {},
   "source": [
    "# Tf.Varable - Weights and Biases\n",
    "<p style=\"font-size:16px;\">\n",
    "As mentioned - the purpose of placeholder are to feed input data into the graph. Other than input and output there are other variables that need to be calculated and changed and optimized when running the program. These are called tf.Variables. <br>\n",
    "    TensorFlow recommends that we use the wrapper tf.get_variable, which allows for easy variable sharing. With tf.get_variable, we can provide variable’s internal name, shape, type, and initializer to give the variable its initial value.\n",
    "    <br><br>\n",
    "    tf.get_variable(<br>\n",
    "    name,<br>\n",
    "    shape=None,<br>\n",
    "    dtype=None,<br>\n",
    "    initializer=None,<br>\n",
    "    regularizer=None,<br>\n",
    "    trainable=True,<br>\n",
    "    collections=None,<br>\n",
    "    caching_device=None,<br>\n",
    "    partitioner=None,<br>\n",
    "    validate_shape=True,<br>\n",
    "    use_resource=None,<br>\n",
    "    custom_getter=None,<br>\n",
    "    constraint=None<br>\n",
    ")<br>\n",
    "<br>"
   ]
  },
  {
   "cell_type": "code",
   "execution_count": 17,
   "metadata": {},
   "outputs": [],
   "source": [
    "weights = tf.get_variable('weights', initializer=tf.zeros([image_flat_size, num_classes]))\n",
    "biases = tf.get_variable('biases', initializer=tf.zeros([num_classes]))"
   ]
  },
  {
   "cell_type": "markdown",
   "metadata": {},
   "source": [
    "<p style=\"font-size:16px;\">\n",
    "    <strong>weights</strong> is a TensorFlow variable and is initialized with zeros. It's shape is [image_flat_size, num_classes], a 2-dimensional matrix with 784 (image_flat_size) rows and 10 (num_classes) columns.<br><br>\n",
    "    We can see this info by priniting it in browser:"
   ]
  },
  {
   "cell_type": "code",
   "execution_count": 18,
   "metadata": {},
   "outputs": [
    {
     "data": {
      "text/plain": [
       "<tf.Variable 'weights:0' shape=(784, 10) dtype=float32_ref>"
      ]
     },
     "execution_count": 18,
     "metadata": {},
     "output_type": "execute_result"
    }
   ],
   "source": [
    "weights"
   ]
  },
  {
   "cell_type": "markdown",
   "metadata": {},
   "source": [
    "<p style=\"font-size:16px;\">\n",
    "    <strong>biases</strong> is a vector of length num_classes\n",
    "    We can also see this info by priniting it in browser:"
   ]
  },
  {
   "cell_type": "code",
   "execution_count": 19,
   "metadata": {},
   "outputs": [
    {
     "data": {
      "text/plain": [
       "<tf.Variable 'biases:0' shape=(10,) dtype=float32_ref>"
      ]
     },
     "execution_count": 19,
     "metadata": {},
     "output_type": "execute_result"
    }
   ],
   "source": [
    "biases"
   ]
  },
  {
   "cell_type": "markdown",
   "metadata": {},
   "source": [
    "# Mathematical Model\n",
    "<p style=\"font-size:16px;\">\n",
    "    Now that we have our placeholders (for input) and our variables defined we can do something with them - we can build a model.\n",
    "   This is the first lesson so the model is very basic.<br>\n",
    "    It multiplies the images in the placeholder variable x with the weights and then adds the biases.\n",
    "    It then stores the the result in a matrix typically named logits:  \n"
   ]
  },
  {
   "cell_type": "code",
   "execution_count": 20,
   "metadata": {},
   "outputs": [],
   "source": [
    "y_logits = tf.matmul(x, weights) + biases"
   ]
  },
  {
   "cell_type": "markdown",
   "metadata": {},
   "source": [
    "<p style=\"font-size:16px;\">\n",
    "x has a shape of( train_len, image_flat_size) -> (5500, 784)<br>\n",
    "weights has a shape of (image_flat_size, num_classes) -> (784, 10)<br>\n",
    "so the result is of shape (train_len, num_classes) -> (5500, 10) <br>\n",
    "    That means that each image of the 5500 links to a vector with 10 posibilities...\n",
    "    <br>\n",
    "    Remember the promise we made? we should store the result in the \"y_predicted\" placeholder.\n",
    "    but before lets normalize the results so each vector of 10 options will sum to 1 so each element's value is limited between 0 and 1. For that we use the softmax function. We will learn in more details about this function in a future lesson. "
   ]
  },
  {
   "cell_type": "code",
   "execution_count": 21,
   "metadata": {},
   "outputs": [],
   "source": [
    "y_predicted = tf.nn.softmax(y_logits)"
   ]
  },
  {
   "cell_type": "markdown",
   "metadata": {},
   "source": [
    "<p style=\"font-size:16px;\">\n",
    "The neuron that has the maximum value is the predicted class:"
   ]
  },
  {
   "cell_type": "code",
   "execution_count": 22,
   "metadata": {},
   "outputs": [],
   "source": [
    "y_predicted_class = tf.argmax(y_predicted, axis=1)"
   ]
  },
  {
   "cell_type": "markdown",
   "metadata": {},
   "source": [
    "# The Cost Function and Optimization\n",
    "<p style=\"font-size:16px;\">\n",
    "Chances are that when we try to classify an image using the existing weights and biases - we'll get a wrong result. We all learn by making mistakes and correct our doing so why shouldn't our program learn from it's mistakes and improve by correct itself?<br>\n",
    "First we've got to see how wrong we are, and for that we have a cost function.\n",
    "    \n",
    "## The cost function\n",
    "<p style=\"font-size:16px;\">\n",
    "The cost function is a function that mainly answers the question: \"How far are we from the truthful value?\"\n",
    "There is a number of cost functions that one can use and some work better than other on certain models. I'll cover other cost function in future lesson. \n",
    "Because this is an introductory lesson I'll not go deep into the math of the cost function that we'll use. Understanding the higher level should suffice for the time being.<br>\n",
    "\n",
    "### The Cross Entropy\n",
    "<p style=\"font-size:16px;\">\n",
    "A desired cost function should return a zero if we got the right class - if we got it wrong we want a scaled value that will tell us how wrong we are - how exponentially wrong we are might work?<br>\n",
    "The cross-entropy does it for us. It is always positive and continuous and if the predicted output of the model exactly matches the desired output then the cross-entropy equals zero.<br>\n",
    "\n",
    "### Optimize it!!\n",
    "<p style=\"font-size:16px;\">\n",
    "AS mentioned cost = 0 tells us that we are classifying the images correctly. Therefor one should seek to minimize the cross-entropy by changing the weights and biases of the model - this is called optimization.\n",
    "TensorFlow has a built-in function for calculating the cross-entropy. Note that it uses the values of the logits because it also calculates the softmax internally.\n",
    "\n"
   ]
  },
  {
   "cell_type": "code",
   "execution_count": 23,
   "metadata": {},
   "outputs": [],
   "source": [
    "cross_entropy = tf.nn.softmax_cross_entropy_with_logits_v2(logits=y_logits,\n",
    "                                                        labels=y_given)"
   ]
  },
  {
   "cell_type": "markdown",
   "metadata": {},
   "source": [
    "<p style=\"font-size:16px;\">\n",
    "The cross entropy is a vector with the same shape of the input. We need a scalar number that represents the cost of intire model. So we'll simply average it:"
   ]
  },
  {
   "cell_type": "code",
   "execution_count": 24,
   "metadata": {},
   "outputs": [],
   "source": [
    "cost = tf.reduce_mean(cross_entropy)"
   ]
  },
  {
   "cell_type": "code",
   "execution_count": 25,
   "metadata": {},
   "outputs": [
    {
     "data": {
      "text/plain": [
       "<tf.Tensor 'Mean:0' shape=() dtype=float32>"
      ]
     },
     "execution_count": 25,
     "metadata": {},
     "output_type": "execute_result"
    }
   ],
   "source": [
    "cost"
   ]
  },
  {
   "cell_type": "markdown",
   "metadata": {},
   "source": [
    "\n",
    "## Optimizer\n",
    "<p style=\"font-size:16px;\">\n",
    "Lets define our optimizer. We are actually adding another node to the graph telling it to minimize the cost by using a certain method for optimization. In our case it is the basic form of Gradient Descent where the step-size is set to 0.5."
   ]
  },
  {
   "cell_type": "code",
   "execution_count": 26,
   "metadata": {},
   "outputs": [],
   "source": [
    "optimizer = tf.train.GradientDescentOptimizer(learning_rate=0.1).minimize(cost)"
   ]
  },
  {
   "cell_type": "markdown",
   "metadata": {},
   "source": [
    "# How close are we?\n",
    "<p style=\"font-size:16px;\">\n",
    "We need to measure our progress.<br>\n",
    "The cost function tells us how far we are from perfectness. But we would like to know exactly how acurate our model is?\n",
    "    to find out if we are correct or not for each image we can simply run this code:"
   ]
  },
  {
   "cell_type": "code",
   "execution_count": 27,
   "metadata": {},
   "outputs": [],
   "source": [
    "correctness = tf.equal(y_predicted_class , y_given_class)"
   ]
  },
  {
   "cell_type": "code",
   "execution_count": 28,
   "metadata": {},
   "outputs": [],
   "source": [
    "correctness = tf.cast(correctness, tf.float32)"
   ]
  },
  {
   "cell_type": "markdown",
   "metadata": {},
   "source": [
    "<p style=\"font-size:16px;\">\n",
    "Basically its a long vector where each correct label is represented by 1 and a wrong one by 0 \n",
    "    \n",
    "## Accuracy\n",
    "<p style=\"font-size:16px;\">\n",
    "    is the average of our correctness vector. Note that casting to float was neccessary.\n"
   ]
  },
  {
   "cell_type": "code",
   "execution_count": 29,
   "metadata": {},
   "outputs": [],
   "source": [
    "accuracy = tf.reduce_mean(correctness)"
   ]
  },
  {
   "cell_type": "markdown",
   "metadata": {},
   "source": [
    "# Run It!!\n",
    "So far we did not calculate anything , we just constructed the graph, preparing it for later execution.\n",
    "To do so we have to create a TensorFlow session.\n",
    "\n",
    "## tf.Session()\n"
   ]
  },
  {
   "cell_type": "code",
   "execution_count": 30,
   "metadata": {},
   "outputs": [],
   "source": [
    "session = tf.Session()"
   ]
  },
  {
   "cell_type": "markdown",
   "metadata": {},
   "source": [
    "<p style=\"font-size:16px;\">\n",
    "Remember to initialize all our variables. Thats why we defined a type of initializer when we created them.\n",
    "Any action that we want to conduct in the graph must be stated inside of a session.run() function.\n",
    "    "
   ]
  },
  {
   "cell_type": "code",
   "execution_count": 31,
   "metadata": {},
   "outputs": [],
   "source": [
    "session.run(tf.global_variables_initializer())"
   ]
  },
  {
   "cell_type": "markdown",
   "metadata": {},
   "source": [
    "## batching\n",
    "<p style=\"font-size:16px;\">\n",
    "Calculating the changes in the weights and biases after every image is very source consuming and slow. Instead with TF we can use Stochastic Gradient Descent which only uses a batch of images in each iteration of the optimizer. "
   ]
  },
  {
   "cell_type": "code",
   "execution_count": 32,
   "metadata": {},
   "outputs": [],
   "source": [
    "batch_size = 100"
   ]
  },
  {
   "cell_type": "markdown",
   "metadata": {},
   "source": [
    "<p style=\"font-size:16px;\">\n",
    "Lets create a function for optimizing our training model. \n",
    "first lets get familiar with a new term: \"epoch\" .One epoch consists of one full training cycle on the training set. Once every sample in the set is seen, you start again - marking the beginning of the 2nd epoch. \n",
    "It takes in as parameters the number of epochs and the batch size:\n",
    "Remember: there are many batches in a single epoch"
   ]
  },
  {
   "cell_type": "code",
   "execution_count": 33,
   "metadata": {},
   "outputs": [],
   "source": [
    "def optimize_by_batch(num_iterations, batch_size):\n",
    "    for i in range(num_iterations):\n",
    "        # get the next batch of images and labels\n",
    "        x_image_batch, y_given_batch, y_given_class = data.train.next_batch(batch_size)\n",
    "        \n",
    "        # create a dictionary of the placeholders.\n",
    "        feed_dict_train = {x: x_image_batch,\n",
    "                           y_given: y_given_batch}\n",
    "\n",
    "        # Run the optimizer \n",
    "        session.run(optimizer, feed_dict=feed_dict_train)\n",
    "        print('batch {0} / {1}'.format(i+1, num_iterations))"
   ]
  },
  {
   "cell_type": "code",
   "execution_count": 34,
   "metadata": {},
   "outputs": [],
   "source": [
    "def optimize_by_epochs(num_epochs, batch_size):\n",
    "    data.train.processed = 0\n",
    "    batch_num = int(data.train.data_set_size / batch_size)\n",
    "    for i in range(num_epochs):\n",
    "        for j in range(batch_num):\n",
    "            # get the next batch of images and labels\n",
    "            x_image_batch, y_given_batch, y_given_class = data.train.next_batch(batch_size)\n",
    "\n",
    "            # create a dictionary of the placeholders.\n",
    "            feed_dict_train = {x: x_image_batch,\n",
    "                               y_given: y_given_batch}\n",
    "\n",
    "            # Run the optimizer \n",
    "            session.run(optimizer, feed_dict=feed_dict_train)\n",
    "        print('epoch {0} / {1}'.format(i+1, num_epochs))        "
   ]
  },
  {
   "cell_type": "markdown",
   "metadata": {},
   "source": [
    "<p style=\"font-size:16px;\">\n",
    "Create a feed dictionary to hold all the test dataset input:"
   ]
  },
  {
   "cell_type": "code",
   "execution_count": 35,
   "metadata": {},
   "outputs": [],
   "source": [
    "feed_dict_test = {x:data.test.images,\n",
    "                  y_given: data.test.labels,\n",
    "                  y_given_class: data.test.classes}"
   ]
  },
  {
   "cell_type": "markdown",
   "metadata": {},
   "source": [
    " <p style=\"font-size:16px;\">\n",
    "Create a function to Get the Accracy value and print it to screen. "
   ]
  },
  {
   "cell_type": "code",
   "execution_count": 36,
   "metadata": {},
   "outputs": [],
   "source": [
    "def calculate_and_print_accuracy():\n",
    "    session_accuracy = session.run(accuracy, feed_dict=feed_dict_test)\n",
    "    \n",
    "    # Print the accuracy.\n",
    "    print(\"Accuracy on test-set: {0:.1%}\".format(session_accuracy))"
   ]
  },
  {
   "cell_type": "code",
   "execution_count": 37,
   "metadata": {},
   "outputs": [
    {
     "name": "stdout",
     "output_type": "stream",
     "text": [
      "Accuracy on test-set: 9.8%\n"
     ]
    }
   ],
   "source": [
    "calculate_and_print_accuracy()"
   ]
  },
  {
   "cell_type": "markdown",
   "metadata": {},
   "source": [
    " <p style=\"font-size:16px;\">\n",
    "As you can see before training the model our chances to predict the image class is less than 10%.\n",
    "lets plot it:"
   ]
  },
  {
   "cell_type": "code",
   "execution_count": 38,
   "metadata": {},
   "outputs": [
    {
     "data": {
      "image/png": "[encoded data removed]",
      "text/plain": [
       "<Figure size 432x288 with 32 Axes>"
      ]
     },
     "metadata": {},
     "output_type": "display_data"
    }
   ],
   "source": [
    "sample_images = data.test.images[0:32]\n",
    "classes = data.test.classes[0:32]\n",
    "classes_pred = session.run(y_predicted_class, feed_dict=feed_dict_test)\n",
    "plot_images_grid(sample_images, img_shape, classes, classes_pred[0:32])"
   ]
  },
  {
   "cell_type": "code",
   "execution_count": 39,
   "metadata": {},
   "outputs": [
    {
     "name": "stdout",
     "output_type": "stream",
     "text": [
      "batch 1 / 3\n",
      "batch 2 / 3\n",
      "batch 3 / 3\n"
     ]
    }
   ],
   "source": [
    "optimize_by_batch(num_iterations=3, batch_size=batch_size)"
   ]
  },
  {
   "cell_type": "markdown",
   "metadata": {},
   "source": [
    "<p style=\"font-size:16px;\">\n",
    "This are the results after 3 iterations:"
   ]
  },
  {
   "cell_type": "code",
   "execution_count": 40,
   "metadata": {},
   "outputs": [
    {
     "name": "stdout",
     "output_type": "stream",
     "text": [
      "Accuracy on test-set: 33.2%\n"
     ]
    }
   ],
   "source": [
    "calculate_and_print_accuracy()"
   ]
  },
  {
   "cell_type": "code",
   "execution_count": 41,
   "metadata": {},
   "outputs": [
    {
     "data": {
      "image/png": "[encoded data removed]",
      "text/plain": [
       "<Figure size 432x288 with 32 Axes>"
      ]
     },
     "metadata": {},
     "output_type": "display_data"
    }
   ],
   "source": [
    "\n",
    "classes_pred = session.run(y_predicted_class, feed_dict=feed_dict_test)\n",
    "plot_images_grid(sample_images, img_shape, classes, classes_pred[0:32])"
   ]
  },
  {
   "cell_type": "markdown",
   "metadata": {},
   "source": [
    "<p style=\"font-size:16px;\">\n",
    "    After a very short training our weights and biases got tuned to classify a few images. Amazing don't you think? <br>\n",
    "    How does the weight look like? lets create a function to plot some weights and run it: \n",
    "    "
   ]
  },
  {
   "cell_type": "code",
   "execution_count": 42,
   "metadata": {},
   "outputs": [],
   "source": [
    "def plot_weights():\n",
    "    # Get the weights.\n",
    "    w = session.run(weights)\n",
    "    \n",
    "    # Get the min and max values \n",
    "    w_min = np.min(w)\n",
    "    w_max = np.max(w)\n",
    "\n",
    "    # Create figure with 3x4 sub-plots,\n",
    "    # where the last 2 sub-plots are unused.\n",
    "    fig, axes = plt.subplots(2, 5)\n",
    "    fig.subplots_adjust(hspace=0.3, wspace=0.3)\n",
    "\n",
    "    for i, ax in enumerate(axes.flat):\n",
    "        if i<10:\n",
    "            image = w[:, i].reshape(img_shape)\n",
    "            ax.set_xlabel(\"Weights: {0}\".format(i))\n",
    "\n",
    "            # Plot the image.\n",
    "            ax.imshow(image, vmin=w_min, vmax=w_max, cmap='seismic')\n",
    "\n",
    "        # Remove ticks from each sub-plot.\n",
    "        ax.set_xticks([])\n",
    "        ax.set_yticks([])\n",
    "        \n",
    "    plt.show()"
   ]
  },
  {
   "cell_type": "code",
   "execution_count": 43,
   "metadata": {},
   "outputs": [
    {
     "data": {
      "image/png": "[encoded data removed]",
      "text/plain": [
       "<Figure size 432x288 with 10 Axes>"
      ]
     },
     "metadata": {},
     "output_type": "display_data"
    }
   ],
   "source": [
    "plot_weights()"
   ]
  },
  {
   "cell_type": "code",
   "execution_count": 44,
   "metadata": {},
   "outputs": [
    {
     "name": "stdout",
     "output_type": "stream",
     "text": [
      "number of processed images is 300\n"
     ]
    }
   ],
   "source": [
    "print('number of processed images is {}'.format(data.train.processed))\n"
   ]
  },
  {
   "cell_type": "code",
   "execution_count": 63,
   "metadata": {},
   "outputs": [
    {
     "name": "stdout",
     "output_type": "stream",
     "text": [
      "epoch 1 / 5\n",
      "epoch 2 / 5\n",
      "epoch 3 / 5\n",
      "epoch 4 / 5\n",
      "epoch 5 / 5\n"
     ]
    }
   ],
   "source": [
    "optimize_by_epochs(num_epochs=5, batch_size=batch_size)"
   ]
  },
  {
   "cell_type": "code",
   "execution_count": 64,
   "metadata": {},
   "outputs": [
    {
     "name": "stdout",
     "output_type": "stream",
     "text": [
      "Accuracy on test-set: 88.2%\n"
     ]
    }
   ],
   "source": [
    "calculate_and_print_accuracy()"
   ]
  },
  {
   "cell_type": "code",
   "execution_count": 65,
   "metadata": {},
   "outputs": [
    {
     "data": {
      "image/png": "[encoded data removed]",
      "text/plain": [
       "<Figure size 432x288 with 10 Axes>"
      ]
     },
     "metadata": {},
     "output_type": "display_data"
    }
   ],
   "source": [
    "plot_weights()"
   ]
  },
  {
   "cell_type": "code",
   "execution_count": 66,
   "metadata": {},
   "outputs": [
    {
     "data": {
      "image/png": "[encoded data removed]",
      "text/plain": [
       "<Figure size 432x288 with 32 Axes>"
      ]
     },
     "metadata": {},
     "output_type": "display_data"
    }
   ],
   "source": [
    "correct, classes_pred = session.run([correctness, y_predicted_class], feed_dict=feed_dict_test)\n",
    "plot_images_grid(sample_images, img_shape, classes, classes_pred[0:32])"
   ]
  },
  {
   "cell_type": "markdown",
   "metadata": {},
   "source": [
    "<p style=\"font-size:16px;\">\n",
    "We've completed our first mission and got a clssifier with an accuracy percentage of more than 85% with a basic linear classifier. Think about twicks and changes to the code that can improve this accuracy. We've learned alot - good job. Time for the second lesson now...."
   ]
  },
  {
   "cell_type": "markdown",
   "metadata": {},
   "source": [
    "## License (MIT)\n",
    "\n",
    "Copyright (c) 2018 by [Guy Tordjman](https://github.com/Turgibot)\n",
    "\n",
    "Permission is hereby granted, free of charge, to any person obtaining a copy of this software and associated documentation files (the \"Software\"), to deal in the Software without restriction, including without limitation the rights to use, copy, modify, merge, publish, distribute, sublicense, and/or sell copies of the Software, and to permit persons to whom the Software is furnished to do so, subject to the following conditions:\n",
    "\n",
    "The above copyright notice and this permission notice shall be included in all copies or substantial portions of the Software.\n",
    "\n",
    "THE SOFTWARE IS PROVIDED \"AS IS\", WITHOUT WARRANTY OF ANY KIND, EXPRESS OR IMPLIED, INCLUDING BUT NOT LIMITED TO THE WARRANTIES OF MERCHANTABILITY, FITNESS FOR A PARTICULAR PURPOSE AND NONINFRINGEMENT. IN NO EVENT SHALL THE AUTHORS OR COPYRIGHT HOLDERS BE LIABLE FOR ANY CLAIM, DAMAGES OR OTHER LIABILITY, WHETHER IN AN ACTION OF CONTRACT, TORT OR OTHERWISE, ARISING FROM, OUT OF OR IN CONNECTION WITH THE SOFTWARE OR THE USE OR OTHER DEALINGS IN THE SOFTWARE."
   ]
  }
 ],
 "metadata": {
  "kernelspec": {
   "display_name": "Python 3",
   "language": "python",
   "name": "python3"
  },
  "language_info": {
   "codemirror_mode": {
    "name": "ipython",
    "version": 3
   },
   "file_extension": ".py",
   "mimetype": "text/x-python",
   "name": "python",
   "nbconvert_exporter": "python",
   "pygments_lexer": "ipython3",
   "version": "3.5.2"
  }
 },
 "nbformat": 4,
 "nbformat_minor": 2
}
