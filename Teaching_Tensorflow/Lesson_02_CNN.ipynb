{
 "cells": [
  {
   "cell_type": "markdown",
   "metadata": {},
   "source": [
    "# Lesson 2 - Convolutional Neural Networks with Tensorflow"
   ]
  },
  {
   "cell_type": "markdown",
   "metadata": {},
   "source": [
    "Created by [Guy Tordjman](https://github.com/Turgibot). Based on the [Tensorflow official tutorials](https://www.tensorflow.org/tutorials/) and [Hvass Laboratories](http://www.hvass-labs.org/)."
   ]
  },
  {
   "cell_type": "markdown",
   "metadata": {},
   "source": [
    "## This Lesson is about better results:\n",
    "<p style=\"font-size:16px;\">\n",
    "    In the previous lesson we demonstrated that with a linear model, we are able to classify an image of a digit with an average accuracy of 90%. In the real world classifying applications require a state of the art accuracy. For example, imagine that you had to use the linear model from lesson 1 in an autonomous vehicle and had to decide if the image you process is of a pedestrian or not and act accordingly. The 10% chance that the image was classfied wrong - can cost a very high price and not to mention hurt someone. Stop for a moment and think about it... <br> With power comes responsibility.<br><br>\n",
    "    In this lesson we will implement a CNN(Convolutional Neural Network) and get an accuracy of 99% and higher.\n",
    "\n",
    "### A model is built of layers \n",
    "<p style=\"font-size:16px;\">\n",
    "In Lesson one we passed the input tensor with images to the output tensor and in the process we run calculation of the weights and biases. From now on we will call each phase before and after the calculation part a \"layer\".\n"
   ]
  },
  {
   "cell_type": "markdown",
   "metadata": {},
   "source": [
    "## Fully-connected layer , Convolutional layer, Pooling ... Ha?...\n",
    "<p style=\"font-size:16px;\">\n",
    "There are many in-depth articles available on line about the different layers I always encourage learning more. That said, I will concentrate on the characteristics of the relevant layers mentioned in this lesson."
   ]
  },
  {
   "cell_type": "markdown",
   "metadata": {},
   "source": [
    "### FC - The Fully Connected layer\n",
    "![fc](images/fc.png)"
   ]
  },
  {
   "cell_type": "markdown",
   "metadata": {},
   "source": [
    "<p style=\"font-size:16px;\">\n",
    "This layer is a FC graph where each node/neuron in the left layer is linked to a node/neuron in the other layer. The edges are the links and each edge has a weight \"w\". <br>\n",
    "The first layer in a model is called the \"input layer\" and th einner layer are called \"hidden layers\". "
   ]
  },
  {
   "cell_type": "markdown",
   "metadata": {},
   "source": [
    "### FC - The Convolutional layer\n",
    "![fc](images/conv.gif)"
   ]
  },
  {
   "cell_type": "markdown",
   "metadata": {},
   "source": [
    "<p style=\"font-size:16px;\">\n",
    "Convolutional Networks work by moving small filters across the input image making calulation using weights and biases. These filters (also called kernels) are re-used for recognizing patterns throughout the entire input image which makes the Convolutional Networks copared to a FC network with the same number of variables -  more powerful and faster to train.<br>\n",
    "    \n",
    "[This link by brohrer](https://brohrer.github.io/how_convolutional_neural_networks_work.html)\n",
    "<p style=\"font-size:16px;\"> Is a must in order To fully understand the rest of this lesson. It has a very nice approach to explaining the math behind convolution layers.  \n",
    "\n",
    "\n"
   ]
  },
  {
   "cell_type": "markdown",
   "metadata": {},
   "source": [
    "# Coding Time - CNN Implementation\n",
    "<p style=\"font-size:16px;\">\n",
    "Note - I included a python \"utils.py\" file that contains helper functions for plotting images and for downloading and parsing the mnist dataset <br>\n",
    "    \n",
    "### The imports:"
   ]
  },
  {
   "cell_type": "code",
   "execution_count": 5,
   "metadata": {},
   "outputs": [
    {
     "data": {
      "text/plain": [
       "'1.7.0'"
      ]
     },
     "execution_count": 5,
     "metadata": {},
     "output_type": "execute_result"
    }
   ],
   "source": [
    "%matplotlib inline\n",
    "import matplotlib.pyplot as plt\n",
    "import tensorflow as tf\n",
    "import numpy as np\n",
    "from utils import plot_images_grid as plot\n",
    "from tensorflow.examples.tutorials.mnist import input_data\n",
    "import os\n",
    "os.environ['TF_CPP_MIN_LOG_LEVEL']='2' #to deprecate tf warnings\n",
    "tf.__version__"
   ]
  },
  {
   "cell_type": "code",
   "execution_count": 9,
   "metadata": {},
   "outputs": [
    {
     "name": "stdout",
     "output_type": "stream",
     "text": [
      "WARNING:tensorflow:From <ipython-input-9-e514f6ffded0>:2: read_data_sets (from tensorflow.contrib.learn.python.learn.datasets.mnist) is deprecated and will be removed in a future version.\n",
      "Instructions for updating:\n",
      "Please use alternatives such as official/mnist/dataset.py from tensorflow/models.\n",
      "WARNING:tensorflow:From /usr/local/lib/python3.5/dist-packages/tensorflow/contrib/learn/python/learn/datasets/mnist.py:260: maybe_download (from tensorflow.contrib.learn.python.learn.datasets.base) is deprecated and will be removed in a future version.\n",
      "Instructions for updating:\n",
      "Please write your own downloading logic.\n",
      "WARNING:tensorflow:From /usr/local/lib/python3.5/dist-packages/tensorflow/contrib/learn/python/learn/datasets/mnist.py:262: extract_images (from tensorflow.contrib.learn.python.learn.datasets.mnist) is deprecated and will be removed in a future version.\n",
      "Instructions for updating:\n",
      "Please use tf.data to implement this functionality.\n",
      "Extracting data/mnist/train-images-idx3-ubyte.gz\n",
      "WARNING:tensorflow:From /usr/local/lib/python3.5/dist-packages/tensorflow/contrib/learn/python/learn/datasets/mnist.py:267: extract_labels (from tensorflow.contrib.learn.python.learn.datasets.mnist) is deprecated and will be removed in a future version.\n",
      "Instructions for updating:\n",
      "Please use tf.data to implement this functionality.\n",
      "Extracting data/mnist/train-labels-idx1-ubyte.gz\n",
      "WARNING:tensorflow:From /usr/local/lib/python3.5/dist-packages/tensorflow/contrib/learn/python/learn/datasets/mnist.py:110: dense_to_one_hot (from tensorflow.contrib.learn.python.learn.datasets.mnist) is deprecated and will be removed in a future version.\n",
      "Instructions for updating:\n",
      "Please use tf.one_hot on tensors.\n",
      "Extracting data/mnist/t10k-images-idx3-ubyte.gz\n",
      "Extracting data/mnist/t10k-labels-idx1-ubyte.gz\n",
      "WARNING:tensorflow:From /usr/local/lib/python3.5/dist-packages/tensorflow/contrib/learn/python/learn/datasets/mnist.py:290: DataSet.__init__ (from tensorflow.contrib.learn.python.learn.datasets.mnist) is deprecated and will be removed in a future version.\n",
      "Instructions for updating:\n",
      "Please use alternatives such as official/mnist/dataset.py from tensorflow/models.\n"
     ]
    }
   ],
   "source": [
    "# getting the data. NOTE- The Labels already in one hot encoding and Images are flattened:\n",
    "data = input_data.read_data_sets('data/mnist/', one_hot=True)"
   ]
  },
  {
   "cell_type": "markdown",
   "metadata": {},
   "source": [
    "### Data set size:"
   ]
  },
  {
   "cell_type": "code",
   "execution_count": 11,
   "metadata": {},
   "outputs": [
    {
     "name": "stdout",
     "output_type": "stream",
     "text": [
      "Size of:\n",
      "Training-set:\t\t55000\n",
      "Test-set:\t\t10000\n",
      "Validation-set:\t\t5000\n"
     ]
    }
   ],
   "source": [
    "train_size = len(data.train.labels)\n",
    "test_size = len(data.test.labels)\n",
    "valid_size = len(data.validation.labels)\n",
    "print(\"Size of:\")\n",
    "print(\"Training-set:\\t\\t{}\".format(train_size))\n",
    "print(\"Test-set:\\t\\t{}\".format(test_size))\n",
    "print(\"Validation-set:\\t\\t{}\".format(valid_size))"
   ]
  },
  {
   "cell_type": "markdown",
   "metadata": {},
   "source": [
    "<p style=\"font-size:16px;\">\n",
    "To get the classes vector of the test data set we can simply run:"
   ]
  },
  {
   "cell_type": "code",
   "execution_count": 12,
   "metadata": {},
   "outputs": [],
   "source": [
    "data.test.classes = np.argmax(data.test.labels, axis=1)"
   ]
  },
  {
   "cell_type": "markdown",
   "metadata": {},
   "source": [
    "### Getting the data's characteristics:\n",
    "<p style=\"font-size:16px;\">\n",
    "These are variables that we will need in future calculations\n"
   ]
  },
  {
   "cell_type": "code",
   "execution_count": 13,
   "metadata": {},
   "outputs": [],
   "source": [
    "image_size = image_height = image_width = 28\n",
    "image_flat_size = image_size ** 2\n",
    "image_shape = (image_height, image_width)\n",
    "num_channels =1\n",
    "num_classes =10"
   ]
  },
  {
   "cell_type": "markdown",
   "metadata": {},
   "source": [
    "<p style=\"font-size:16px;\">\n",
    "Lets take alook at our dataset and make sure it looks ok."
   ]
  },
  {
   "cell_type": "code",
   "execution_count": 15,
   "metadata": {},
   "outputs": [
    {
     "data": {
      "image/png": "[encoded data removed]",
      "text/plain": [
       "<Figure size 432x288 with 32 Axes>"
      ]
     },
     "metadata": {},
     "output_type": "display_data"
    }
   ],
   "source": [
    "plot(data.test.images[0:32], image_shape[0:32], data.test.classes[0:32])"
   ]
  },
  {
   "cell_type": "code",
   "execution_count": null,
   "metadata": {},
   "outputs": [],
   "source": []
  }
 ],
 "metadata": {
  "kernelspec": {
   "display_name": "Python 3",
   "language": "python",
   "name": "python3"
  },
  "language_info": {
   "codemirror_mode": {
    "name": "ipython",
    "version": 3
   },
   "file_extension": ".py",
   "mimetype": "text/x-python",
   "name": "python",
   "nbconvert_exporter": "python",
   "pygments_lexer": "ipython3",
   "version": "3.5.2"
  }
 },
 "nbformat": 4,
 "nbformat_minor": 2
}
